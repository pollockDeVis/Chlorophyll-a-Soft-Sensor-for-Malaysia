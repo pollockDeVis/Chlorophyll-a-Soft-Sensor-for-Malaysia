{
 "cells": [
  {
   "cell_type": "code",
   "execution_count": 1,
   "id": "f5b6680d",
   "metadata": {},
   "outputs": [],
   "source": [
    "import pandas as pd\n",
    "import numpy as np"
   ]
  },
  {
   "cell_type": "code",
   "execution_count": 2,
   "id": "de5bbea9",
   "metadata": {},
   "outputs": [
    {
     "data": {
      "text/html": [
       "<div>\n",
       "<style scoped>\n",
       "    .dataframe tbody tr th:only-of-type {\n",
       "        vertical-align: middle;\n",
       "    }\n",
       "\n",
       "    .dataframe tbody tr th {\n",
       "        vertical-align: top;\n",
       "    }\n",
       "\n",
       "    .dataframe thead th {\n",
       "        text-align: right;\n",
       "    }\n",
       "</style>\n",
       "<table border=\"1\" class=\"dataframe\">\n",
       "  <thead>\n",
       "    <tr style=\"text-align: right;\">\n",
       "      <th></th>\n",
       "      <th>temp</th>\n",
       "      <th>cond</th>\n",
       "      <th>do</th>\n",
       "      <th>turb</th>\n",
       "      <th>chl-a</th>\n",
       "    </tr>\n",
       "    <tr>\n",
       "      <th>datetime</th>\n",
       "      <th></th>\n",
       "      <th></th>\n",
       "      <th></th>\n",
       "      <th></th>\n",
       "      <th></th>\n",
       "    </tr>\n",
       "  </thead>\n",
       "  <tbody>\n",
       "    <tr>\n",
       "      <th>2019-03-28 00:43:09</th>\n",
       "      <td>30.67318</td>\n",
       "      <td>94.64645</td>\n",
       "      <td>7.890586</td>\n",
       "      <td>34.89499</td>\n",
       "      <td>329.58420</td>\n",
       "    </tr>\n",
       "    <tr>\n",
       "      <th>2019-03-13 03:58:05</th>\n",
       "      <td>29.37799</td>\n",
       "      <td>88.46648</td>\n",
       "      <td>2.994163</td>\n",
       "      <td>28.22379</td>\n",
       "      <td>75.43412</td>\n",
       "    </tr>\n",
       "    <tr>\n",
       "      <th>2019-03-12 01:38:05</th>\n",
       "      <td>29.63066</td>\n",
       "      <td>87.79338</td>\n",
       "      <td>3.759133</td>\n",
       "      <td>27.81244</td>\n",
       "      <td>61.83861</td>\n",
       "    </tr>\n",
       "    <tr>\n",
       "      <th>2019-03-27 11:33:09</th>\n",
       "      <td>30.25711</td>\n",
       "      <td>94.01340</td>\n",
       "      <td>7.265454</td>\n",
       "      <td>59.38213</td>\n",
       "      <td>328.57310</td>\n",
       "    </tr>\n",
       "    <tr>\n",
       "      <th>2019-10-03 10:43:09</th>\n",
       "      <td>28.85477</td>\n",
       "      <td>113.77930</td>\n",
       "      <td>5.524088</td>\n",
       "      <td>111.27610</td>\n",
       "      <td>738.35680</td>\n",
       "    </tr>\n",
       "  </tbody>\n",
       "</table>\n",
       "</div>"
      ],
      "text/plain": [
       "                         temp       cond        do       turb      chl-a\n",
       "datetime                                                                \n",
       "2019-03-28 00:43:09  30.67318   94.64645  7.890586   34.89499  329.58420\n",
       "2019-03-13 03:58:05  29.37799   88.46648  2.994163   28.22379   75.43412\n",
       "2019-03-12 01:38:05  29.63066   87.79338  3.759133   27.81244   61.83861\n",
       "2019-03-27 11:33:09  30.25711   94.01340  7.265454   59.38213  328.57310\n",
       "2019-10-03 10:43:09  28.85477  113.77930  5.524088  111.27610  738.35680"
      ]
     },
     "execution_count": 2,
     "metadata": {},
     "output_type": "execute_result"
    }
   ],
   "source": [
    "#Importing the Dataset\n",
    "dataset = pd.read_csv('azure_wq_train_entire_dataset.csv', header=0, index_col=0)\n",
    "# dataset = dataset.rename(columns={'actual_conductivity':'cond', 'total_dissolved_solids':'tds', 'do_concentration':'do', 'turbidity':'turb', 'chl-a_concentration':'chl-a', 'temperature':'temp'})\n",
    "# dataset = dataset[['temp', 'cond', 'do', 'tds', 'turb', 'chl-a']]\n",
    "dataset.sort_index()\n",
    "dataset.head()"
   ]
  },
  {
   "cell_type": "code",
   "execution_count": null,
   "id": "b5828754",
   "metadata": {},
   "outputs": [],
   "source": []
  },
  {
   "cell_type": "code",
   "execution_count": null,
   "id": "f87d311c",
   "metadata": {},
   "outputs": [],
   "source": []
  }
 ],
 "metadata": {
  "kernelspec": {
   "display_name": "Python 3",
   "language": "python",
   "name": "python3"
  },
  "language_info": {
   "codemirror_mode": {
    "name": "ipython",
    "version": 3
   },
   "file_extension": ".py",
   "mimetype": "text/x-python",
   "name": "python",
   "nbconvert_exporter": "python",
   "pygments_lexer": "ipython3",
   "version": "3.6.13"
  }
 },
 "nbformat": 4,
 "nbformat_minor": 5
}
