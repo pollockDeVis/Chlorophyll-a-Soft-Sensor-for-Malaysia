{
 "cells": [
  {
   "cell_type": "code",
   "execution_count": 5,
   "id": "01f29fda",
   "metadata": {},
   "outputs": [],
   "source": [
    "import pickle\n",
    "import pandas as pd\n",
    "import numpy as np\n",
    "import matplotlib.pyplot as plt\n",
    "from sklearn.preprocessing import MinMaxScaler\n",
    "from sklearn.metrics import mean_squared_error, r2_score, mean_absolute_error"
   ]
  },
  {
   "cell_type": "code",
   "execution_count": 6,
   "id": "c70a7e2b",
   "metadata": {},
   "outputs": [
    {
     "name": "stdout",
     "output_type": "stream",
     "text": [
      "(1703, 6)\n"
     ]
    },
    {
     "data": {
      "text/html": [
       "<div>\n",
       "<style scoped>\n",
       "    .dataframe tbody tr th:only-of-type {\n",
       "        vertical-align: middle;\n",
       "    }\n",
       "\n",
       "    .dataframe tbody tr th {\n",
       "        vertical-align: top;\n",
       "    }\n",
       "\n",
       "    .dataframe thead th {\n",
       "        text-align: right;\n",
       "    }\n",
       "</style>\n",
       "<table border=\"1\" class=\"dataframe\">\n",
       "  <thead>\n",
       "    <tr style=\"text-align: right;\">\n",
       "      <th></th>\n",
       "      <th>datetime</th>\n",
       "      <th>temp</th>\n",
       "      <th>cond</th>\n",
       "      <th>do</th>\n",
       "      <th>turb</th>\n",
       "      <th>chl-a</th>\n",
       "    </tr>\n",
       "  </thead>\n",
       "  <tbody>\n",
       "    <tr>\n",
       "      <th>1698</th>\n",
       "      <td>2019-10-07 09:28:57</td>\n",
       "      <td>28.85450</td>\n",
       "      <td>114.8247</td>\n",
       "      <td>4.183043</td>\n",
       "      <td>233.6058</td>\n",
       "      <td>756.1524</td>\n",
       "    </tr>\n",
       "    <tr>\n",
       "      <th>1699</th>\n",
       "      <td>2019-10-07 09:43:57</td>\n",
       "      <td>28.86032</td>\n",
       "      <td>114.9700</td>\n",
       "      <td>4.145543</td>\n",
       "      <td>162.0830</td>\n",
       "      <td>700.5317</td>\n",
       "    </tr>\n",
       "    <tr>\n",
       "      <th>1700</th>\n",
       "      <td>2019-10-07 12:13:57</td>\n",
       "      <td>28.91764</td>\n",
       "      <td>114.6542</td>\n",
       "      <td>4.948326</td>\n",
       "      <td>198.8478</td>\n",
       "      <td>705.6551</td>\n",
       "    </tr>\n",
       "    <tr>\n",
       "      <th>1701</th>\n",
       "      <td>2019-10-07 12:43:57</td>\n",
       "      <td>28.95679</td>\n",
       "      <td>115.1583</td>\n",
       "      <td>5.223165</td>\n",
       "      <td>205.1799</td>\n",
       "      <td>707.6824</td>\n",
       "    </tr>\n",
       "    <tr>\n",
       "      <th>1702</th>\n",
       "      <td>2019-10-08 14:44:46</td>\n",
       "      <td>28.89604</td>\n",
       "      <td>115.3140</td>\n",
       "      <td>6.730115</td>\n",
       "      <td>239.6638</td>\n",
       "      <td>1059.8350</td>\n",
       "    </tr>\n",
       "  </tbody>\n",
       "</table>\n",
       "</div>"
      ],
      "text/plain": [
       "                 datetime      temp      cond        do      turb      chl-a\n",
       "1698  2019-10-07 09:28:57  28.85450  114.8247  4.183043  233.6058   756.1524\n",
       "1699  2019-10-07 09:43:57  28.86032  114.9700  4.145543  162.0830   700.5317\n",
       "1700  2019-10-07 12:13:57  28.91764  114.6542  4.948326  198.8478   705.6551\n",
       "1701  2019-10-07 12:43:57  28.95679  115.1583  5.223165  205.1799   707.6824\n",
       "1702  2019-10-08 14:44:46  28.89604  115.3140  6.730115  239.6638  1059.8350"
      ]
     },
     "execution_count": 6,
     "metadata": {},
     "output_type": "execute_result"
    }
   ],
   "source": [
    "#Importing the test Dataset\n",
    "dataset_full_test = pd.read_csv('azure_wq_test_entire_dataset.csv')\n",
    "dataset_full_test = dataset_full_test[['datetime','temp', 'cond', 'do', 'turb', 'chl-a']]\n",
    "dataset_full_test.sort_index()\n",
    "print(dataset_full_test.shape)\n",
    "dataset_full_test.tail()"
   ]
  },
  {
   "cell_type": "code",
   "execution_count": 7,
   "id": "138c9242",
   "metadata": {},
   "outputs": [
    {
     "name": "stdout",
     "output_type": "stream",
     "text": [
      "(1703, 5)\n",
      "(1703,)\n"
     ]
    },
    {
     "data": {
      "text/plain": [
       "0    39.64875\n",
       "1    40.57396\n",
       "2    40.88269\n",
       "3    47.05107\n",
       "4    59.39921\n",
       "Name: chl-a, dtype: float64"
      ]
     },
     "execution_count": 7,
     "metadata": {},
     "output_type": "execute_result"
    }
   ],
   "source": [
    "#Preparing Input & Output Features\n",
    "X = dataset_full_test[:]\n",
    "Y = X.pop('chl-a')\n",
    "print(X.shape)\n",
    "print(Y.shape)\n",
    "Y.head()"
   ]
  },
  {
   "cell_type": "markdown",
   "id": "11bb3aea",
   "metadata": {},
   "source": [
    "# LightGBM"
   ]
  },
  {
   "cell_type": "code",
   "execution_count": 8,
   "id": "b560319f",
   "metadata": {},
   "outputs": [
    {
     "ename": "ModuleNotFoundError",
     "evalue": "No module named 'azureml'",
     "output_type": "error",
     "traceback": [
      "\u001b[1;31m---------------------------------------------------------------------------\u001b[0m",
      "\u001b[1;31mModuleNotFoundError\u001b[0m                       Traceback (most recent call last)",
      "\u001b[1;32m<ipython-input-8-051212df4ce3>\u001b[0m in \u001b[0;36m<module>\u001b[1;34m\u001b[0m\n\u001b[0;32m      1\u001b[0m \u001b[1;31m#Loading the model\u001b[0m\u001b[1;33m\u001b[0m\u001b[1;33m\u001b[0m\u001b[1;33m\u001b[0m\u001b[0m\n\u001b[0;32m      2\u001b[0m \u001b[0mfilename\u001b[0m \u001b[1;33m=\u001b[0m \u001b[1;34m'lgbm_model.pkl'\u001b[0m\u001b[1;33m\u001b[0m\u001b[1;33m\u001b[0m\u001b[0m\n\u001b[1;32m----> 3\u001b[1;33m \u001b[0mentire_ds_model\u001b[0m \u001b[1;33m=\u001b[0m \u001b[0mpickle\u001b[0m\u001b[1;33m.\u001b[0m\u001b[0mload\u001b[0m\u001b[1;33m(\u001b[0m\u001b[0mopen\u001b[0m\u001b[1;33m(\u001b[0m\u001b[0mfilename\u001b[0m\u001b[1;33m,\u001b[0m \u001b[1;34m'rb'\u001b[0m\u001b[1;33m)\u001b[0m\u001b[1;33m)\u001b[0m\u001b[1;33m\u001b[0m\u001b[1;33m\u001b[0m\u001b[0m\n\u001b[0m",
      "\u001b[1;31mModuleNotFoundError\u001b[0m: No module named 'azureml'"
     ]
    }
   ],
   "source": [
    "#Loading the model\n",
    "filename = 'lgbm_model.pkl'\n",
    "entire_ds_model = pickle.load(open(filename, 'rb'))"
   ]
  },
  {
   "cell_type": "code",
   "execution_count": null,
   "id": "514ebf67",
   "metadata": {},
   "outputs": [],
   "source": [
    "#Testing the model on test dataset\n",
    "result = entire_ds_model.score(X,Y)\n",
    "predicted_Y = pd.DataFrame(entire_ds_model.predict(X))\n",
    "print(result)\n",
    "print('R2: %f' % (r2_score(Y, predicted_Y)))\n",
    "print('MAE: %f' % (mean_absolute_error(Y, predicted_Y)))\n",
    "print('MAE: %f' % (mean_squared_error(Y, predicted_Y, squared=False))) \n",
    "\n"
   ]
  },
  {
   "cell_type": "code",
   "execution_count": null,
   "id": "b0b810ad",
   "metadata": {},
   "outputs": [],
   "source": [
    "plt.figure(figsize=(12,5))\n",
    "\n",
    "plt.ylabel('Chl-a Concentration (µg/L)')\n",
    "\n",
    "plt.plot(Y, color='blue', label = 'Actual')\n",
    "\n",
    "plt.plot(predicted_Y, color='red', label = 'Predicted')\n",
    "\n",
    "ax = plt.gca()\n",
    "ax.axes.xaxis.set_visible(False)\n",
    "plt.legend()\n",
    "plt.show()"
   ]
  },
  {
   "cell_type": "markdown",
   "id": "c2ebb144",
   "metadata": {},
   "source": [
    "# RF"
   ]
  },
  {
   "cell_type": "code",
   "execution_count": null,
   "id": "746524c6",
   "metadata": {},
   "outputs": [],
   "source": [
    "#Loading the model\n",
    "filename = 'rf_model.pkl'\n",
    "entire_ds_model = pickle.load(open(filename, 'rb'))"
   ]
  },
  {
   "cell_type": "code",
   "execution_count": null,
   "id": "2d5304f9",
   "metadata": {},
   "outputs": [],
   "source": [
    "#Testing the model on test dataset\n",
    "result = entire_ds_model.score(X,Y)\n",
    "predicted_Y = pd.DataFrame(entire_ds_model.predict(X))\n",
    "print(result)\n",
    "print('R2: %f' % (r2_score(Y, predicted_Y)))\n",
    "print('MAE: %f' % (mean_absolute_error(Y, predicted_Y)))\n",
    "print('MAE: %f' % (mean_squared_error(Y, predicted_Y, squared=False))) \n",
    "\n"
   ]
  },
  {
   "cell_type": "code",
   "execution_count": null,
   "id": "6f6cbcc9",
   "metadata": {},
   "outputs": [],
   "source": [
    "plt.figure(figsize=(12,5))\n",
    "\n",
    "plt.ylabel('Chl-a Concentration (µg/L)')\n",
    "\n",
    "plt.plot(Y, color='blue', label = 'Actual')\n",
    "\n",
    "plt.plot(predicted_Y, color='red', label = 'Predicted')\n",
    "\n",
    "ax = plt.gca()\n",
    "ax.axes.xaxis.set_visible(False)\n",
    "plt.legend()\n",
    "plt.show()"
   ]
  },
  {
   "cell_type": "markdown",
   "id": "316c3ae9",
   "metadata": {},
   "source": [
    "# XGBoost"
   ]
  },
  {
   "cell_type": "code",
   "execution_count": null,
   "id": "f201da5f",
   "metadata": {},
   "outputs": [],
   "source": [
    "#Loading the model\n",
    "filename = 'xgboost_model.pkl'\n",
    "entire_ds_model = pickle.load(open(filename, 'rb'))"
   ]
  },
  {
   "cell_type": "code",
   "execution_count": null,
   "id": "38032822",
   "metadata": {},
   "outputs": [],
   "source": [
    "#Testing the model on test dataset\n",
    "result = entire_ds_model.score(X,Y)\n",
    "predicted_Y = pd.DataFrame(entire_ds_model.predict(X))\n",
    "print(result)\n",
    "print('R2: %f' % (r2_score(Y, predicted_Y)))\n",
    "print('MAE: %f' % (mean_absolute_error(Y, predicted_Y)))\n",
    "print('MAE: %f' % (mean_squared_error(Y, predicted_Y, squared=False))) \n",
    "\n"
   ]
  },
  {
   "cell_type": "code",
   "execution_count": null,
   "id": "b9c04a1b",
   "metadata": {},
   "outputs": [],
   "source": [
    "plt.figure(figsize=(12,5))\n",
    "\n",
    "plt.ylabel('Chl-a Concentration (µg/L)')\n",
    "\n",
    "plt.plot(Y, color='blue', label = 'Actual')\n",
    "\n",
    "plt.plot(predicted_Y, color='red', label = 'Predicted')\n",
    "\n",
    "ax = plt.gca()\n",
    "ax.axes.xaxis.set_visible(False)\n",
    "plt.legend()\n",
    "plt.show()"
   ]
  }
 ],
 "metadata": {
  "kernelspec": {
   "display_name": "Python 3",
   "language": "python",
   "name": "python3"
  },
  "language_info": {
   "codemirror_mode": {
    "name": "ipython",
    "version": 3
   },
   "file_extension": ".py",
   "mimetype": "text/x-python",
   "name": "python",
   "nbconvert_exporter": "python",
   "pygments_lexer": "ipython3",
   "version": "3.6.13"
  }
 },
 "nbformat": 4,
 "nbformat_minor": 5
}
