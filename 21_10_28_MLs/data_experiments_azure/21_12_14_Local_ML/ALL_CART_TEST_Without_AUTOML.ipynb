{
 "cells": [
  {
   "cell_type": "code",
   "execution_count": 26,
   "id": "65e3d46a",
   "metadata": {},
   "outputs": [
    {
     "name": "stdout",
     "output_type": "stream",
     "text": [
      "2.3.0\n",
      "0.90\n"
     ]
    }
   ],
   "source": [
    "import pandas as pd\n",
    "\n",
    "\n",
    "from lightgbm import LGBMRegressor\n",
    "from xgboost import XGBRegressor\n",
    "from sklearn.ensemble import RandomForestRegressor\n",
    "from sklearn.model_selection import RepeatedKFold\n",
    "from numpy import mean\n",
    "from numpy import std\n",
    "\n",
    "import math\n",
    "import numpy as np\n",
    "import pandas as pd\n",
    "import matplotlib.pyplot as plt\n",
    "%matplotlib inline\n",
    "import seaborn as sns\n",
    "from scipy.stats import norm\n",
    "import lightgbm as lgb\n",
    "from sklearn.model_selection import train_test_split\n",
    "from sklearn.metrics import mean_squared_log_error,  mean_squared_error, r2_score, mean_absolute_error\n",
    "from sklearn.model_selection import cross_val_score, cross_val_predict\n",
    "\n",
    "\n",
    "from sklearn import preprocessing\n",
    "from sklearn.preprocessing import MaxAbsScaler, MinMaxScaler\n",
    "\n",
    "import lightgbm\n",
    "print(lightgbm.__version__)\n",
    "\n",
    "import xgboost\n",
    "print(xgboost.__version__)\n"
   ]
  },
  {
   "cell_type": "code",
   "execution_count": 27,
   "id": "3bf6d782",
   "metadata": {},
   "outputs": [
    {
     "data": {
      "text/html": [
       "<div>\n",
       "<style scoped>\n",
       "    .dataframe tbody tr th:only-of-type {\n",
       "        vertical-align: middle;\n",
       "    }\n",
       "\n",
       "    .dataframe tbody tr th {\n",
       "        vertical-align: top;\n",
       "    }\n",
       "\n",
       "    .dataframe thead th {\n",
       "        text-align: right;\n",
       "    }\n",
       "</style>\n",
       "<table border=\"1\" class=\"dataframe\">\n",
       "  <thead>\n",
       "    <tr style=\"text-align: right;\">\n",
       "      <th></th>\n",
       "      <th>year</th>\n",
       "      <th>month</th>\n",
       "      <th>day</th>\n",
       "      <th>day_of_week</th>\n",
       "      <th>day_of_year</th>\n",
       "      <th>quarter</th>\n",
       "      <th>hour</th>\n",
       "      <th>minute</th>\n",
       "      <th>second</th>\n",
       "      <th>temp</th>\n",
       "      <th>cond</th>\n",
       "      <th>do</th>\n",
       "      <th>turb</th>\n",
       "      <th>chl-a</th>\n",
       "    </tr>\n",
       "  </thead>\n",
       "  <tbody>\n",
       "    <tr>\n",
       "      <th>0</th>\n",
       "      <td>2019</td>\n",
       "      <td>3</td>\n",
       "      <td>28</td>\n",
       "      <td>3</td>\n",
       "      <td>87</td>\n",
       "      <td>1</td>\n",
       "      <td>0</td>\n",
       "      <td>43</td>\n",
       "      <td>9</td>\n",
       "      <td>30.67318</td>\n",
       "      <td>94.64645</td>\n",
       "      <td>7.890586</td>\n",
       "      <td>34.89499</td>\n",
       "      <td>329.58420</td>\n",
       "    </tr>\n",
       "    <tr>\n",
       "      <th>1</th>\n",
       "      <td>2019</td>\n",
       "      <td>3</td>\n",
       "      <td>13</td>\n",
       "      <td>2</td>\n",
       "      <td>72</td>\n",
       "      <td>1</td>\n",
       "      <td>3</td>\n",
       "      <td>58</td>\n",
       "      <td>5</td>\n",
       "      <td>29.37799</td>\n",
       "      <td>88.46648</td>\n",
       "      <td>2.994163</td>\n",
       "      <td>28.22379</td>\n",
       "      <td>75.43412</td>\n",
       "    </tr>\n",
       "    <tr>\n",
       "      <th>2</th>\n",
       "      <td>2019</td>\n",
       "      <td>3</td>\n",
       "      <td>12</td>\n",
       "      <td>1</td>\n",
       "      <td>71</td>\n",
       "      <td>1</td>\n",
       "      <td>1</td>\n",
       "      <td>38</td>\n",
       "      <td>5</td>\n",
       "      <td>29.63066</td>\n",
       "      <td>87.79338</td>\n",
       "      <td>3.759133</td>\n",
       "      <td>27.81244</td>\n",
       "      <td>61.83861</td>\n",
       "    </tr>\n",
       "    <tr>\n",
       "      <th>3</th>\n",
       "      <td>2019</td>\n",
       "      <td>3</td>\n",
       "      <td>27</td>\n",
       "      <td>2</td>\n",
       "      <td>86</td>\n",
       "      <td>1</td>\n",
       "      <td>11</td>\n",
       "      <td>33</td>\n",
       "      <td>9</td>\n",
       "      <td>30.25711</td>\n",
       "      <td>94.01340</td>\n",
       "      <td>7.265454</td>\n",
       "      <td>59.38213</td>\n",
       "      <td>328.57310</td>\n",
       "    </tr>\n",
       "    <tr>\n",
       "      <th>4</th>\n",
       "      <td>2019</td>\n",
       "      <td>10</td>\n",
       "      <td>3</td>\n",
       "      <td>3</td>\n",
       "      <td>276</td>\n",
       "      <td>4</td>\n",
       "      <td>10</td>\n",
       "      <td>43</td>\n",
       "      <td>9</td>\n",
       "      <td>28.85477</td>\n",
       "      <td>113.77930</td>\n",
       "      <td>5.524088</td>\n",
       "      <td>111.27610</td>\n",
       "      <td>738.35680</td>\n",
       "    </tr>\n",
       "  </tbody>\n",
       "</table>\n",
       "</div>"
      ],
      "text/plain": [
       "   year  month  day  day_of_week  day_of_year  quarter  hour  minute  second  \\\n",
       "0  2019      3   28            3           87        1     0      43       9   \n",
       "1  2019      3   13            2           72        1     3      58       5   \n",
       "2  2019      3   12            1           71        1     1      38       5   \n",
       "3  2019      3   27            2           86        1    11      33       9   \n",
       "4  2019     10    3            3          276        4    10      43       9   \n",
       "\n",
       "       temp       cond        do       turb      chl-a  \n",
       "0  30.67318   94.64645  7.890586   34.89499  329.58420  \n",
       "1  29.37799   88.46648  2.994163   28.22379   75.43412  \n",
       "2  29.63066   87.79338  3.759133   27.81244   61.83861  \n",
       "3  30.25711   94.01340  7.265454   59.38213  328.57310  \n",
       "4  28.85477  113.77930  5.524088  111.27610  738.35680  "
      ]
     },
     "execution_count": 27,
     "metadata": {},
     "output_type": "execute_result"
    }
   ],
   "source": [
    "#importing datasets\n",
    "train_dataset = pd.read_csv('feature_engineered_train_dataset.csv', header=0) #, header=0, parse_dates=['datetime']\n",
    "train_dataset = train_dataset.drop(labels= 'Unnamed: 0' , axis=1)\n",
    "train_dataset.head()"
   ]
  },
  {
   "cell_type": "code",
   "execution_count": 28,
   "id": "d6e68f5b",
   "metadata": {},
   "outputs": [
    {
     "data": {
      "text/html": [
       "<div>\n",
       "<style scoped>\n",
       "    .dataframe tbody tr th:only-of-type {\n",
       "        vertical-align: middle;\n",
       "    }\n",
       "\n",
       "    .dataframe tbody tr th {\n",
       "        vertical-align: top;\n",
       "    }\n",
       "\n",
       "    .dataframe thead th {\n",
       "        text-align: right;\n",
       "    }\n",
       "</style>\n",
       "<table border=\"1\" class=\"dataframe\">\n",
       "  <thead>\n",
       "    <tr style=\"text-align: right;\">\n",
       "      <th></th>\n",
       "      <th>year</th>\n",
       "      <th>month</th>\n",
       "      <th>day</th>\n",
       "      <th>day_of_week</th>\n",
       "      <th>day_of_year</th>\n",
       "      <th>quarter</th>\n",
       "      <th>hour</th>\n",
       "      <th>minute</th>\n",
       "      <th>second</th>\n",
       "      <th>temp</th>\n",
       "      <th>cond</th>\n",
       "      <th>do</th>\n",
       "      <th>turb</th>\n",
       "      <th>chl-a</th>\n",
       "    </tr>\n",
       "  </thead>\n",
       "  <tbody>\n",
       "    <tr>\n",
       "      <th>0</th>\n",
       "      <td>2019</td>\n",
       "      <td>2</td>\n",
       "      <td>20</td>\n",
       "      <td>2</td>\n",
       "      <td>51</td>\n",
       "      <td>1</td>\n",
       "      <td>12</td>\n",
       "      <td>0</td>\n",
       "      <td>0</td>\n",
       "      <td>29.55674</td>\n",
       "      <td>92.12651</td>\n",
       "      <td>6.491213</td>\n",
       "      <td>32.86783</td>\n",
       "      <td>39.64875</td>\n",
       "    </tr>\n",
       "    <tr>\n",
       "      <th>1</th>\n",
       "      <td>2019</td>\n",
       "      <td>2</td>\n",
       "      <td>20</td>\n",
       "      <td>2</td>\n",
       "      <td>51</td>\n",
       "      <td>1</td>\n",
       "      <td>12</td>\n",
       "      <td>10</td>\n",
       "      <td>0</td>\n",
       "      <td>29.59175</td>\n",
       "      <td>92.22813</td>\n",
       "      <td>6.724226</td>\n",
       "      <td>24.30492</td>\n",
       "      <td>40.57396</td>\n",
       "    </tr>\n",
       "    <tr>\n",
       "      <th>2</th>\n",
       "      <td>2019</td>\n",
       "      <td>2</td>\n",
       "      <td>20</td>\n",
       "      <td>2</td>\n",
       "      <td>51</td>\n",
       "      <td>1</td>\n",
       "      <td>12</td>\n",
       "      <td>20</td>\n",
       "      <td>0</td>\n",
       "      <td>29.57693</td>\n",
       "      <td>91.93182</td>\n",
       "      <td>6.677357</td>\n",
       "      <td>47.46174</td>\n",
       "      <td>40.88269</td>\n",
       "    </tr>\n",
       "    <tr>\n",
       "      <th>3</th>\n",
       "      <td>2019</td>\n",
       "      <td>2</td>\n",
       "      <td>20</td>\n",
       "      <td>2</td>\n",
       "      <td>51</td>\n",
       "      <td>1</td>\n",
       "      <td>12</td>\n",
       "      <td>40</td>\n",
       "      <td>0</td>\n",
       "      <td>29.64378</td>\n",
       "      <td>92.78736</td>\n",
       "      <td>7.629431</td>\n",
       "      <td>26.58170</td>\n",
       "      <td>47.05107</td>\n",
       "    </tr>\n",
       "    <tr>\n",
       "      <th>4</th>\n",
       "      <td>2019</td>\n",
       "      <td>2</td>\n",
       "      <td>20</td>\n",
       "      <td>2</td>\n",
       "      <td>51</td>\n",
       "      <td>1</td>\n",
       "      <td>14</td>\n",
       "      <td>40</td>\n",
       "      <td>0</td>\n",
       "      <td>29.67038</td>\n",
       "      <td>91.74003</td>\n",
       "      <td>8.935707</td>\n",
       "      <td>40.49232</td>\n",
       "      <td>59.39921</td>\n",
       "    </tr>\n",
       "  </tbody>\n",
       "</table>\n",
       "</div>"
      ],
      "text/plain": [
       "   year  month  day  day_of_week  day_of_year  quarter  hour  minute  second  \\\n",
       "0  2019      2   20            2           51        1    12       0       0   \n",
       "1  2019      2   20            2           51        1    12      10       0   \n",
       "2  2019      2   20            2           51        1    12      20       0   \n",
       "3  2019      2   20            2           51        1    12      40       0   \n",
       "4  2019      2   20            2           51        1    14      40       0   \n",
       "\n",
       "       temp      cond        do      turb     chl-a  \n",
       "0  29.55674  92.12651  6.491213  32.86783  39.64875  \n",
       "1  29.59175  92.22813  6.724226  24.30492  40.57396  \n",
       "2  29.57693  91.93182  6.677357  47.46174  40.88269  \n",
       "3  29.64378  92.78736  7.629431  26.58170  47.05107  \n",
       "4  29.67038  91.74003  8.935707  40.49232  59.39921  "
      ]
     },
     "execution_count": 28,
     "metadata": {},
     "output_type": "execute_result"
    }
   ],
   "source": [
    "#importing datasets\n",
    "test_dataset = pd.read_csv('feature_engineered_test_dataset.csv', header=0) #, header=0, parse_dates=['datetime']\n",
    "test_dataset = test_dataset.drop(labels= 'Unnamed: 0' , axis=1)\n",
    "test_dataset.head()"
   ]
  },
  {
   "cell_type": "code",
   "execution_count": 29,
   "id": "b845e71b",
   "metadata": {},
   "outputs": [
    {
     "name": "stdout",
     "output_type": "stream",
     "text": [
      "(6813, 13)\n",
      "(6813,)\n",
      "(1703, 13)\n",
      "(1703,)\n"
     ]
    }
   ],
   "source": [
    "#Preparing Input Features and Prediction Labels\n",
    "\n",
    "train_X = train_dataset.iloc[:,0:13]\n",
    "print(train_X.shape)\n",
    "train_Y = train_dataset.iloc[:, 13]\n",
    "print(train_Y.shape)\n",
    "\n",
    "test_X = test_dataset.iloc[:,0:13]\n",
    "print(test_X.shape)\n",
    "test_Y = test_dataset.iloc[:, 13]\n",
    "print(test_Y.shape)"
   ]
  },
  {
   "cell_type": "code",
   "execution_count": 30,
   "id": "df27202d",
   "metadata": {},
   "outputs": [
    {
     "name": "stdout",
     "output_type": "stream",
     "text": [
      "(6813, 13)\n",
      "(1703, 13)\n"
     ]
    }
   ],
   "source": [
    "#Preprocessing with MaxAbsScaler\n",
    "\n",
    "MAScaler = MaxAbsScaler()\n",
    "train_X_MaxAbs = MAScaler.fit_transform(train_X)\n",
    "\n",
    "test_X_MaxAbs = MAScaler.fit_transform(test_X)\n",
    "\n",
    "print(train_X_MaxAbs.shape)\n",
    "print(test_X_MaxAbs.shape)"
   ]
  },
  {
   "cell_type": "code",
   "execution_count": 31,
   "id": "472115d9",
   "metadata": {},
   "outputs": [],
   "source": [
    "#Preprocessing with MinMaxScaler\n",
    "MMScaler = MinMaxScaler(feature_range=(-1,1))\n",
    "train_X_MinMax = MMScaler.fit_transform(train_X)\n",
    "test_X_MinMax = MMScaler.fit_transform(test_X)\n"
   ]
  },
  {
   "cell_type": "code",
   "execution_count": 34,
   "id": "cba6640d",
   "metadata": {},
   "outputs": [
    {
     "name": "stdout",
     "output_type": "stream",
     "text": [
      "(6813, 13)\n",
      "(1703, 13)\n",
      "[[-1.         -1.          0.26666667 ... -0.24309714 -0.03981183\n",
      "  -0.82808068]\n",
      " [-1.         -1.          0.26666667 ... -0.23932055 -0.0032416\n",
      "  -0.89348995]\n",
      " [-1.         -1.          0.26666667 ... -0.25033257 -0.01059746\n",
      "  -0.71660259]\n",
      " ...\n",
      " [-1.          1.         -0.6        ...  0.59411867 -0.2819602\n",
      "   0.43978589]\n",
      " [-1.          1.         -0.6        ...  0.61285297 -0.2388256\n",
      "   0.48815473]\n",
      " [-1.          1.         -0.53333333 ...  0.61863938 -0.00231736\n",
      "   0.75156594]]\n"
     ]
    }
   ],
   "source": [
    "print(train_X_MinMax.shape)\n",
    "print(test_X_MinMax.shape)\n",
    "\n",
    "print(test_X_MinMax)"
   ]
  },
  {
   "cell_type": "markdown",
   "id": "743a4a6d",
   "metadata": {},
   "source": [
    "# LightGBM w MaxAbsScaler"
   ]
  },
  {
   "cell_type": "code",
   "execution_count": 41,
   "id": "399dd002",
   "metadata": {},
   "outputs": [
    {
     "name": "stdout",
     "output_type": "stream",
     "text": [
      "MAE: -27.593 (1.739)\n"
     ]
    },
    {
     "data": {
      "text/plain": [
       "LGBMRegressor(boosting_type='gbdt', class_weight=None, colsample_bytree=1.0,\n",
       "              importance_type='split', learning_rate=0.1, max_depth=-1,\n",
       "              min_child_samples=20, min_child_weight=0.001, min_split_gain=0.0,\n",
       "              n_estimators=100, n_jobs=-1, num_leaves=31, objective=None,\n",
       "              random_state=None, reg_alpha=0.0, reg_lambda=0.0, silent=True,\n",
       "              subsample=1.0, subsample_for_bin=200000, subsample_freq=0)"
      ]
     },
     "execution_count": 41,
     "metadata": {},
     "output_type": "execute_result"
    }
   ],
   "source": [
    "#Model Training\n",
    "\n",
    "model = LGBMRegressor() #min_data_in_leaf= 20\n",
    "\n",
    "\n",
    "cv = RepeatedKFold(n_splits=10, n_repeats=3)\n",
    "n_scores = cross_val_score(model, train_X_MaxAbs, train_Y, scoring='neg_root_mean_squared_error', cv=cv) #try:neg_mean_absolute_error \n",
    "print('MAE: %.3f (%.3f)' % (mean(n_scores), std(n_scores)))\n",
    "\n",
    "\n",
    "\n",
    "model.fit(train_X_MaxAbs, train_Y)\n",
    "\n",
    "\n",
    "\n",
    "\n"
   ]
  },
  {
   "cell_type": "code",
   "execution_count": 42,
   "id": "9852248a",
   "metadata": {},
   "outputs": [
    {
     "name": "stdout",
     "output_type": "stream",
     "text": [
      "Train R2: 0.995355\n",
      "Train MAE: 10.561939\n",
      "Train RMSE: 18.155827\n",
      "Test R2: 0.922348\n",
      "Test MAE: 28.101163\n",
      "Test RMSE: 71.028762\n"
     ]
    }
   ],
   "source": [
    "#Assessing the performance metrics\n",
    "\n",
    "yhat_train = model.predict(train_X_MaxAbs)\n",
    "yhat_test = model.predict(test_X_MaxAbs)\n",
    "\n",
    "#Print Performance Metrics for Train\n",
    "print('Train R2: %f' % (r2_score(train_Y, yhat_train)))\n",
    "print('Train MAE: %f' % (mean_absolute_error(train_Y, yhat_train)))\n",
    "print('Train RMSE: %f' % (mean_squared_error(train_Y, yhat_train, squared=False))) \n",
    "\n",
    "\n",
    "#Print Performance Metrics for Test\n",
    "print('Test R2: %f' % (r2_score(test_Y, yhat_test)))\n",
    "print('Test MAE: %f' % (mean_absolute_error(test_Y, yhat_test)))\n",
    "print('Test RMSE: %f' % (mean_squared_error(test_Y, yhat_test, squared=False))) \n"
   ]
  },
  {
   "cell_type": "code",
   "execution_count": 43,
   "id": "caab8b13",
   "metadata": {},
   "outputs": [
    {
     "data": {
      "image/png": "[encoded data removed]",
      "text/plain": [
       "<Figure size 864x360 with 1 Axes>"
      ]
     },
     "metadata": {
      "needs_background": "light"
     },
     "output_type": "display_data"
    }
   ],
   "source": [
    "#Plotting the predicted vs actual on test set\n",
    "\n",
    "plt.figure(figsize=(12,5))\n",
    "\n",
    "plt.ylabel('Chl-a Concentration (µg/L)')\n",
    "\n",
    "plt.plot(test_Y, color='blue', label = 'Actual')\n",
    "\n",
    "plt.plot(yhat_test, color='red', label = 'Predicted')\n",
    "\n",
    "ax = plt.gca()\n",
    "ax.axes.xaxis.set_visible(False)\n",
    "plt.legend()\n",
    "plt.show()"
   ]
  },
  {
   "cell_type": "markdown",
   "id": "f9d6f563",
   "metadata": {},
   "source": [
    "# RF with MinMax"
   ]
  },
  {
   "cell_type": "code",
   "execution_count": 44,
   "id": "4c9f4636",
   "metadata": {},
   "outputs": [
    {
     "name": "stdout",
     "output_type": "stream",
     "text": [
      "MAE: -28.272 (3.036)\n"
     ]
    },
    {
     "data": {
      "text/plain": [
       "RandomForestRegressor(bootstrap=True, ccp_alpha=0.0, criterion='mse',\n",
       "                      max_depth=None, max_features='auto', max_leaf_nodes=None,\n",
       "                      max_samples=None, min_impurity_decrease=0.0,\n",
       "                      min_impurity_split=None, min_samples_leaf=1,\n",
       "                      min_samples_split=2, min_weight_fraction_leaf=0.0,\n",
       "                      n_estimators=100, n_jobs=None, oob_score=False,\n",
       "                      random_state=None, verbose=0, warm_start=False)"
      ]
     },
     "execution_count": 44,
     "metadata": {},
     "output_type": "execute_result"
    }
   ],
   "source": [
    "#Model Training\n",
    "\n",
    "model = RandomForestRegressor()\n",
    "\n",
    "cv = RepeatedKFold(n_splits=10, n_repeats=3)\n",
    "n_scores = cross_val_score(model, train_X_MinMax, train_Y, scoring='neg_root_mean_squared_error', cv=cv) #try:neg_mean_absolute_error \n",
    "print('MAE: %.3f (%.3f)' % (mean(n_scores), std(n_scores)))\n",
    "\n",
    "\n",
    "model.fit(train_X_MinMax, train_Y)"
   ]
  },
  {
   "cell_type": "code",
   "execution_count": 45,
   "id": "9d9105a7",
   "metadata": {},
   "outputs": [
    {
     "name": "stdout",
     "output_type": "stream",
     "text": [
      "Train R2: 0.998456\n",
      "Train MAE: 4.892936\n",
      "Train RMSE: 10.469093\n",
      "Test R2: 0.928315\n",
      "Test MAE: 26.520661\n",
      "Test RMSE: 68.245324\n"
     ]
    }
   ],
   "source": [
    "#Assessing the performance metrics\n",
    "\n",
    "yhat_train = model.predict(train_X_MinMax)\n",
    "yhat_test = model.predict(test_X_MinMax)\n",
    "\n",
    "#Print Performance Metrics for Train\n",
    "print('Train R2: %f' % (r2_score(train_Y, yhat_train)))\n",
    "print('Train MAE: %f' % (mean_absolute_error(train_Y, yhat_train)))\n",
    "print('Train RMSE: %f' % (mean_squared_error(train_Y, yhat_train, squared=False))) \n",
    "\n",
    "\n",
    "#Print Performance Metrics for Test\n",
    "print('Test R2: %f' % (r2_score(test_Y, yhat_test)))\n",
    "print('Test MAE: %f' % (mean_absolute_error(test_Y, yhat_test)))\n",
    "print('Test RMSE: %f' % (mean_squared_error(test_Y, yhat_test, squared=False))) \n"
   ]
  },
  {
   "cell_type": "code",
   "execution_count": 46,
   "id": "bfd3b34a",
   "metadata": {},
   "outputs": [
    {
     "data": {
      "image/png": "[encoded data removed]",
      "text/plain": [
       "<Figure size 864x360 with 1 Axes>"
      ]
     },
     "metadata": {
      "needs_background": "light"
     },
     "output_type": "display_data"
    }
   ],
   "source": [
    "#Plotting the predicted vs actual on test set\n",
    "\n",
    "plt.figure(figsize=(12,5))\n",
    "\n",
    "plt.ylabel('Chl-a Concentration (µg/L)')\n",
    "\n",
    "plt.plot(test_Y, color='blue', label = 'Actual')\n",
    "\n",
    "plt.plot(yhat_test, color='red', label = 'Predicted')\n",
    "\n",
    "ax = plt.gca()\n",
    "ax.axes.xaxis.set_visible(False)\n",
    "plt.legend()\n",
    "plt.show()"
   ]
  },
  {
   "cell_type": "markdown",
   "id": "d2c7ed19",
   "metadata": {},
   "source": [
    "# XGBoost with MaxAbsScaler"
   ]
  },
  {
   "cell_type": "code",
   "execution_count": 47,
   "id": "1b78da46",
   "metadata": {},
   "outputs": [
    {
     "name": "stderr",
     "output_type": "stream",
     "text": [
      "C:\\Users\\Pollock\\anaconda3\\envs\\gpu_2\\lib\\site-packages\\xgboost\\core.py:587: FutureWarning: Series.base is deprecated and will be removed in a future version\n",
      "  if getattr(data, 'base', None) is not None and \\\n"
     ]
    },
    {
     "name": "stdout",
     "output_type": "stream",
     "text": [
      "[10:32:47] WARNING: src/objective/regression_obj.cu:152: reg:linear is now deprecated in favor of reg:squarederror.\n"
     ]
    },
    {
     "name": "stderr",
     "output_type": "stream",
     "text": [
      "C:\\Users\\Pollock\\anaconda3\\envs\\gpu_2\\lib\\site-packages\\xgboost\\core.py:587: FutureWarning: Series.base is deprecated and will be removed in a future version\n",
      "  if getattr(data, 'base', None) is not None and \\\n"
     ]
    },
    {
     "name": "stdout",
     "output_type": "stream",
     "text": [
      "[10:32:47] WARNING: src/objective/regression_obj.cu:152: reg:linear is now deprecated in favor of reg:squarederror.\n"
     ]
    },
    {
     "name": "stderr",
     "output_type": "stream",
     "text": [
      "C:\\Users\\Pollock\\anaconda3\\envs\\gpu_2\\lib\\site-packages\\xgboost\\core.py:587: FutureWarning: Series.base is deprecated and will be removed in a future version\n",
      "  if getattr(data, 'base', None) is not None and \\\n"
     ]
    },
    {
     "name": "stdout",
     "output_type": "stream",
     "text": [
      "[10:32:48] WARNING: src/objective/regression_obj.cu:152: reg:linear is now deprecated in favor of reg:squarederror.\n"
     ]
    },
    {
     "name": "stderr",
     "output_type": "stream",
     "text": [
      "C:\\Users\\Pollock\\anaconda3\\envs\\gpu_2\\lib\\site-packages\\xgboost\\core.py:587: FutureWarning: Series.base is deprecated and will be removed in a future version\n",
      "  if getattr(data, 'base', None) is not None and \\\n"
     ]
    },
    {
     "name": "stdout",
     "output_type": "stream",
     "text": [
      "[10:32:48] WARNING: src/objective/regression_obj.cu:152: reg:linear is now deprecated in favor of reg:squarederror.\n"
     ]
    },
    {
     "name": "stderr",
     "output_type": "stream",
     "text": [
      "C:\\Users\\Pollock\\anaconda3\\envs\\gpu_2\\lib\\site-packages\\xgboost\\core.py:587: FutureWarning: Series.base is deprecated and will be removed in a future version\n",
      "  if getattr(data, 'base', None) is not None and \\\n"
     ]
    },
    {
     "name": "stdout",
     "output_type": "stream",
     "text": [
      "[10:32:48] WARNING: src/objective/regression_obj.cu:152: reg:linear is now deprecated in favor of reg:squarederror.\n"
     ]
    },
    {
     "name": "stderr",
     "output_type": "stream",
     "text": [
      "C:\\Users\\Pollock\\anaconda3\\envs\\gpu_2\\lib\\site-packages\\xgboost\\core.py:587: FutureWarning: Series.base is deprecated and will be removed in a future version\n",
      "  if getattr(data, 'base', None) is not None and \\\n"
     ]
    },
    {
     "name": "stdout",
     "output_type": "stream",
     "text": [
      "[10:32:48] WARNING: src/objective/regression_obj.cu:152: reg:linear is now deprecated in favor of reg:squarederror.\n"
     ]
    },
    {
     "name": "stderr",
     "output_type": "stream",
     "text": [
      "C:\\Users\\Pollock\\anaconda3\\envs\\gpu_2\\lib\\site-packages\\xgboost\\core.py:587: FutureWarning: Series.base is deprecated and will be removed in a future version\n",
      "  if getattr(data, 'base', None) is not None and \\\n"
     ]
    },
    {
     "name": "stdout",
     "output_type": "stream",
     "text": [
      "[10:32:49] WARNING: src/objective/regression_obj.cu:152: reg:linear is now deprecated in favor of reg:squarederror.\n"
     ]
    },
    {
     "name": "stderr",
     "output_type": "stream",
     "text": [
      "C:\\Users\\Pollock\\anaconda3\\envs\\gpu_2\\lib\\site-packages\\xgboost\\core.py:587: FutureWarning: Series.base is deprecated and will be removed in a future version\n",
      "  if getattr(data, 'base', None) is not None and \\\n"
     ]
    },
    {
     "name": "stdout",
     "output_type": "stream",
     "text": [
      "[10:32:49] WARNING: src/objective/regression_obj.cu:152: reg:linear is now deprecated in favor of reg:squarederror.\n"
     ]
    },
    {
     "name": "stderr",
     "output_type": "stream",
     "text": [
      "C:\\Users\\Pollock\\anaconda3\\envs\\gpu_2\\lib\\site-packages\\xgboost\\core.py:587: FutureWarning: Series.base is deprecated and will be removed in a future version\n",
      "  if getattr(data, 'base', None) is not None and \\\n"
     ]
    },
    {
     "name": "stdout",
     "output_type": "stream",
     "text": [
      "[10:32:49] WARNING: src/objective/regression_obj.cu:152: reg:linear is now deprecated in favor of reg:squarederror.\n"
     ]
    },
    {
     "name": "stderr",
     "output_type": "stream",
     "text": [
      "C:\\Users\\Pollock\\anaconda3\\envs\\gpu_2\\lib\\site-packages\\xgboost\\core.py:587: FutureWarning: Series.base is deprecated and will be removed in a future version\n",
      "  if getattr(data, 'base', None) is not None and \\\n"
     ]
    },
    {
     "name": "stdout",
     "output_type": "stream",
     "text": [
      "[10:32:49] WARNING: src/objective/regression_obj.cu:152: reg:linear is now deprecated in favor of reg:squarederror.\n"
     ]
    },
    {
     "name": "stderr",
     "output_type": "stream",
     "text": [
      "C:\\Users\\Pollock\\anaconda3\\envs\\gpu_2\\lib\\site-packages\\xgboost\\core.py:587: FutureWarning: Series.base is deprecated and will be removed in a future version\n",
      "  if getattr(data, 'base', None) is not None and \\\n"
     ]
    },
    {
     "name": "stdout",
     "output_type": "stream",
     "text": [
      "[10:32:50] WARNING: src/objective/regression_obj.cu:152: reg:linear is now deprecated in favor of reg:squarederror.\n"
     ]
    },
    {
     "name": "stderr",
     "output_type": "stream",
     "text": [
      "C:\\Users\\Pollock\\anaconda3\\envs\\gpu_2\\lib\\site-packages\\xgboost\\core.py:587: FutureWarning: Series.base is deprecated and will be removed in a future version\n",
      "  if getattr(data, 'base', None) is not None and \\\n"
     ]
    },
    {
     "name": "stdout",
     "output_type": "stream",
     "text": [
      "[10:32:50] WARNING: src/objective/regression_obj.cu:152: reg:linear is now deprecated in favor of reg:squarederror.\n"
     ]
    },
    {
     "name": "stderr",
     "output_type": "stream",
     "text": [
      "C:\\Users\\Pollock\\anaconda3\\envs\\gpu_2\\lib\\site-packages\\xgboost\\core.py:587: FutureWarning: Series.base is deprecated and will be removed in a future version\n",
      "  if getattr(data, 'base', None) is not None and \\\n"
     ]
    },
    {
     "name": "stdout",
     "output_type": "stream",
     "text": [
      "[10:32:50] WARNING: src/objective/regression_obj.cu:152: reg:linear is now deprecated in favor of reg:squarederror.\n"
     ]
    },
    {
     "name": "stderr",
     "output_type": "stream",
     "text": [
      "C:\\Users\\Pollock\\anaconda3\\envs\\gpu_2\\lib\\site-packages\\xgboost\\core.py:587: FutureWarning: Series.base is deprecated and will be removed in a future version\n",
      "  if getattr(data, 'base', None) is not None and \\\n"
     ]
    },
    {
     "name": "stdout",
     "output_type": "stream",
     "text": [
      "[10:32:50] WARNING: src/objective/regression_obj.cu:152: reg:linear is now deprecated in favor of reg:squarederror.\n"
     ]
    },
    {
     "name": "stderr",
     "output_type": "stream",
     "text": [
      "C:\\Users\\Pollock\\anaconda3\\envs\\gpu_2\\lib\\site-packages\\xgboost\\core.py:587: FutureWarning: Series.base is deprecated and will be removed in a future version\n",
      "  if getattr(data, 'base', None) is not None and \\\n"
     ]
    },
    {
     "name": "stdout",
     "output_type": "stream",
     "text": [
      "[10:32:51] WARNING: src/objective/regression_obj.cu:152: reg:linear is now deprecated in favor of reg:squarederror.\n"
     ]
    },
    {
     "name": "stderr",
     "output_type": "stream",
     "text": [
      "C:\\Users\\Pollock\\anaconda3\\envs\\gpu_2\\lib\\site-packages\\xgboost\\core.py:587: FutureWarning: Series.base is deprecated and will be removed in a future version\n",
      "  if getattr(data, 'base', None) is not None and \\\n"
     ]
    },
    {
     "name": "stdout",
     "output_type": "stream",
     "text": [
      "[10:32:51] WARNING: src/objective/regression_obj.cu:152: reg:linear is now deprecated in favor of reg:squarederror.\n"
     ]
    },
    {
     "name": "stderr",
     "output_type": "stream",
     "text": [
      "C:\\Users\\Pollock\\anaconda3\\envs\\gpu_2\\lib\\site-packages\\xgboost\\core.py:587: FutureWarning: Series.base is deprecated and will be removed in a future version\n",
      "  if getattr(data, 'base', None) is not None and \\\n"
     ]
    },
    {
     "name": "stdout",
     "output_type": "stream",
     "text": [
      "[10:32:51] WARNING: src/objective/regression_obj.cu:152: reg:linear is now deprecated in favor of reg:squarederror.\n"
     ]
    },
    {
     "name": "stderr",
     "output_type": "stream",
     "text": [
      "C:\\Users\\Pollock\\anaconda3\\envs\\gpu_2\\lib\\site-packages\\xgboost\\core.py:587: FutureWarning: Series.base is deprecated and will be removed in a future version\n",
      "  if getattr(data, 'base', None) is not None and \\\n"
     ]
    },
    {
     "name": "stdout",
     "output_type": "stream",
     "text": [
      "[10:32:51] WARNING: src/objective/regression_obj.cu:152: reg:linear is now deprecated in favor of reg:squarederror.\n"
     ]
    },
    {
     "name": "stderr",
     "output_type": "stream",
     "text": [
      "C:\\Users\\Pollock\\anaconda3\\envs\\gpu_2\\lib\\site-packages\\xgboost\\core.py:587: FutureWarning: Series.base is deprecated and will be removed in a future version\n",
      "  if getattr(data, 'base', None) is not None and \\\n"
     ]
    },
    {
     "name": "stdout",
     "output_type": "stream",
     "text": [
      "[10:32:52] WARNING: src/objective/regression_obj.cu:152: reg:linear is now deprecated in favor of reg:squarederror.\n"
     ]
    },
    {
     "name": "stderr",
     "output_type": "stream",
     "text": [
      "C:\\Users\\Pollock\\anaconda3\\envs\\gpu_2\\lib\\site-packages\\xgboost\\core.py:587: FutureWarning: Series.base is deprecated and will be removed in a future version\n",
      "  if getattr(data, 'base', None) is not None and \\\n"
     ]
    },
    {
     "name": "stdout",
     "output_type": "stream",
     "text": [
      "[10:32:52] WARNING: src/objective/regression_obj.cu:152: reg:linear is now deprecated in favor of reg:squarederror.\n"
     ]
    },
    {
     "name": "stderr",
     "output_type": "stream",
     "text": [
      "C:\\Users\\Pollock\\anaconda3\\envs\\gpu_2\\lib\\site-packages\\xgboost\\core.py:587: FutureWarning: Series.base is deprecated and will be removed in a future version\n",
      "  if getattr(data, 'base', None) is not None and \\\n"
     ]
    },
    {
     "name": "stdout",
     "output_type": "stream",
     "text": [
      "[10:32:52] WARNING: src/objective/regression_obj.cu:152: reg:linear is now deprecated in favor of reg:squarederror.\n"
     ]
    },
    {
     "name": "stderr",
     "output_type": "stream",
     "text": [
      "C:\\Users\\Pollock\\anaconda3\\envs\\gpu_2\\lib\\site-packages\\xgboost\\core.py:587: FutureWarning: Series.base is deprecated and will be removed in a future version\n",
      "  if getattr(data, 'base', None) is not None and \\\n"
     ]
    },
    {
     "name": "stdout",
     "output_type": "stream",
     "text": [
      "[10:32:52] WARNING: src/objective/regression_obj.cu:152: reg:linear is now deprecated in favor of reg:squarederror.\n"
     ]
    },
    {
     "name": "stderr",
     "output_type": "stream",
     "text": [
      "C:\\Users\\Pollock\\anaconda3\\envs\\gpu_2\\lib\\site-packages\\xgboost\\core.py:587: FutureWarning: Series.base is deprecated and will be removed in a future version\n",
      "  if getattr(data, 'base', None) is not None and \\\n"
     ]
    },
    {
     "name": "stdout",
     "output_type": "stream",
     "text": [
      "[10:32:53] WARNING: src/objective/regression_obj.cu:152: reg:linear is now deprecated in favor of reg:squarederror.\n"
     ]
    },
    {
     "name": "stderr",
     "output_type": "stream",
     "text": [
      "C:\\Users\\Pollock\\anaconda3\\envs\\gpu_2\\lib\\site-packages\\xgboost\\core.py:587: FutureWarning: Series.base is deprecated and will be removed in a future version\n",
      "  if getattr(data, 'base', None) is not None and \\\n"
     ]
    },
    {
     "name": "stdout",
     "output_type": "stream",
     "text": [
      "[10:32:53] WARNING: src/objective/regression_obj.cu:152: reg:linear is now deprecated in favor of reg:squarederror.\n"
     ]
    },
    {
     "name": "stderr",
     "output_type": "stream",
     "text": [
      "C:\\Users\\Pollock\\anaconda3\\envs\\gpu_2\\lib\\site-packages\\xgboost\\core.py:587: FutureWarning: Series.base is deprecated and will be removed in a future version\n",
      "  if getattr(data, 'base', None) is not None and \\\n"
     ]
    },
    {
     "name": "stdout",
     "output_type": "stream",
     "text": [
      "[10:32:53] WARNING: src/objective/regression_obj.cu:152: reg:linear is now deprecated in favor of reg:squarederror.\n"
     ]
    },
    {
     "name": "stderr",
     "output_type": "stream",
     "text": [
      "C:\\Users\\Pollock\\anaconda3\\envs\\gpu_2\\lib\\site-packages\\xgboost\\core.py:587: FutureWarning: Series.base is deprecated and will be removed in a future version\n",
      "  if getattr(data, 'base', None) is not None and \\\n"
     ]
    },
    {
     "name": "stdout",
     "output_type": "stream",
     "text": [
      "[10:32:53] WARNING: src/objective/regression_obj.cu:152: reg:linear is now deprecated in favor of reg:squarederror.\n"
     ]
    },
    {
     "name": "stderr",
     "output_type": "stream",
     "text": [
      "C:\\Users\\Pollock\\anaconda3\\envs\\gpu_2\\lib\\site-packages\\xgboost\\core.py:587: FutureWarning: Series.base is deprecated and will be removed in a future version\n",
      "  if getattr(data, 'base', None) is not None and \\\n"
     ]
    },
    {
     "name": "stdout",
     "output_type": "stream",
     "text": [
      "[10:32:54] WARNING: src/objective/regression_obj.cu:152: reg:linear is now deprecated in favor of reg:squarederror.\n"
     ]
    },
    {
     "name": "stderr",
     "output_type": "stream",
     "text": [
      "C:\\Users\\Pollock\\anaconda3\\envs\\gpu_2\\lib\\site-packages\\xgboost\\core.py:587: FutureWarning: Series.base is deprecated and will be removed in a future version\n",
      "  if getattr(data, 'base', None) is not None and \\\n"
     ]
    },
    {
     "name": "stdout",
     "output_type": "stream",
     "text": [
      "[10:32:54] WARNING: src/objective/regression_obj.cu:152: reg:linear is now deprecated in favor of reg:squarederror.\n"
     ]
    },
    {
     "name": "stderr",
     "output_type": "stream",
     "text": [
      "C:\\Users\\Pollock\\anaconda3\\envs\\gpu_2\\lib\\site-packages\\xgboost\\core.py:587: FutureWarning: Series.base is deprecated and will be removed in a future version\n",
      "  if getattr(data, 'base', None) is not None and \\\n"
     ]
    },
    {
     "name": "stdout",
     "output_type": "stream",
     "text": [
      "[10:32:54] WARNING: src/objective/regression_obj.cu:152: reg:linear is now deprecated in favor of reg:squarederror.\n"
     ]
    },
    {
     "name": "stderr",
     "output_type": "stream",
     "text": [
      "C:\\Users\\Pollock\\anaconda3\\envs\\gpu_2\\lib\\site-packages\\xgboost\\core.py:587: FutureWarning: Series.base is deprecated and will be removed in a future version\n",
      "  if getattr(data, 'base', None) is not None and \\\n"
     ]
    },
    {
     "name": "stdout",
     "output_type": "stream",
     "text": [
      "[10:32:54] WARNING: src/objective/regression_obj.cu:152: reg:linear is now deprecated in favor of reg:squarederror.\n",
      "MAE: -39.252 (2.563)\n",
      "[10:32:55] WARNING: src/objective/regression_obj.cu:152: reg:linear is now deprecated in favor of reg:squarederror.\n"
     ]
    },
    {
     "name": "stderr",
     "output_type": "stream",
     "text": [
      "C:\\Users\\Pollock\\anaconda3\\envs\\gpu_2\\lib\\site-packages\\xgboost\\core.py:587: FutureWarning: Series.base is deprecated and will be removed in a future version\n",
      "  if getattr(data, 'base', None) is not None and \\\n",
      "C:\\Users\\Pollock\\anaconda3\\envs\\gpu_2\\lib\\site-packages\\xgboost\\core.py:588: FutureWarning: Series.base is deprecated and will be removed in a future version\n",
      "  data.base is not None and isinstance(data, np.ndarray) \\\n"
     ]
    },
    {
     "data": {
      "text/plain": [
       "XGBRegressor(base_score=0.5, booster='gbtree', colsample_bylevel=1,\n",
       "             colsample_bynode=1, colsample_bytree=1, gamma=0,\n",
       "             importance_type='gain', learning_rate=0.1, max_delta_step=0,\n",
       "             max_depth=3, min_child_weight=1, missing=None, n_estimators=100,\n",
       "             n_jobs=1, nthread=None, objective='reg:linear', random_state=0,\n",
       "             reg_alpha=0, reg_lambda=1, scale_pos_weight=1, seed=None,\n",
       "             silent=None, subsample=1, tree_method='auto', verbosity=1)"
      ]
     },
     "execution_count": 47,
     "metadata": {},
     "output_type": "execute_result"
    }
   ],
   "source": [
    "#Model Training\n",
    "\n",
    "model = XGBRegressor(tree_method= 'auto')\n",
    "\n",
    "cv = RepeatedKFold(n_splits=10, n_repeats=3)\n",
    "n_scores = cross_val_score(model, train_X_MaxAbs, train_Y, scoring='neg_root_mean_squared_error', cv=cv) #try:neg_mean_absolute_error \n",
    "print('MAE: %.3f (%.3f)' % (mean(n_scores), std(n_scores)))\n",
    "\n",
    "\n",
    "model.fit(train_X_MaxAbs, train_Y)"
   ]
  },
  {
   "cell_type": "code",
   "execution_count": 48,
   "id": "90afae12",
   "metadata": {},
   "outputs": [
    {
     "name": "stdout",
     "output_type": "stream",
     "text": [
      "Train R2: 0.981824\n",
      "Train MAE: 20.162734\n",
      "Train RMSE: 35.915016\n",
      "Test R2: 0.911850\n",
      "Test MAE: 32.513675\n",
      "Test RMSE: 75.677690\n"
     ]
    }
   ],
   "source": [
    "#Assessing the performance metrics\n",
    "\n",
    "yhat_train = model.predict(train_X_MaxAbs)\n",
    "yhat_test = model.predict(test_X_MaxAbs)\n",
    "\n",
    "#Print Performance Metrics for Train\n",
    "print('Train R2: %f' % (r2_score(train_Y, yhat_train)))\n",
    "print('Train MAE: %f' % (mean_absolute_error(train_Y, yhat_train)))\n",
    "print('Train RMSE: %f' % (mean_squared_error(train_Y, yhat_train, squared=False))) \n",
    "\n",
    "\n",
    "#Print Performance Metrics for Test\n",
    "print('Test R2: %f' % (r2_score(test_Y, yhat_test)))\n",
    "print('Test MAE: %f' % (mean_absolute_error(test_Y, yhat_test)))\n",
    "print('Test RMSE: %f' % (mean_squared_error(test_Y, yhat_test, squared=False))) \n"
   ]
  },
  {
   "cell_type": "code",
   "execution_count": 49,
   "id": "41b2ece2",
   "metadata": {},
   "outputs": [
    {
     "data": {
      "image/png": "[encoded data removed]",
      "text/plain": [
       "<Figure size 864x360 with 1 Axes>"
      ]
     },
     "metadata": {
      "needs_background": "light"
     },
     "output_type": "display_data"
    }
   ],
   "source": [
    "#Plotting the predicted vs actual on test set\n",
    "\n",
    "plt.figure(figsize=(12,5))\n",
    "\n",
    "plt.ylabel('Chl-a Concentration (µg/L)')\n",
    "\n",
    "plt.plot(test_Y, color='blue', label = 'Actual')\n",
    "\n",
    "plt.plot(yhat_test, color='red', label = 'Predicted')\n",
    "\n",
    "ax = plt.gca()\n",
    "ax.axes.xaxis.set_visible(False)\n",
    "plt.legend()\n",
    "plt.show()"
   ]
  }
 ],
 "metadata": {
  "kernelspec": {
   "display_name": "Python 3",
   "language": "python",
   "name": "python3"
  },
  "language_info": {
   "codemirror_mode": {
    "name": "ipython",
    "version": 3
   },
   "file_extension": ".py",
   "mimetype": "text/x-python",
   "name": "python",
   "nbconvert_exporter": "python",
   "pygments_lexer": "ipython3",
   "version": "3.6.13"
  }
 },
 "nbformat": 4,
 "nbformat_minor": 5
}
