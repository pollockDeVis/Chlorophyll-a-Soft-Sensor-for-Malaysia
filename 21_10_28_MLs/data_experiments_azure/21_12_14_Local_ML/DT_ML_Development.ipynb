{
 "cells": [
  {
   "cell_type": "code",
   "execution_count": 27,
   "id": "b52195d7",
   "metadata": {},
   "outputs": [
    {
     "name": "stdout",
     "output_type": "stream",
     "text": [
      "0.23.2\n"
     ]
    }
   ],
   "source": [
    "import sklearn\n",
    "print(sklearn.__version__)"
   ]
  },
  {
   "cell_type": "code",
   "execution_count": 28,
   "id": "1695b8c8",
   "metadata": {},
   "outputs": [
    {
     "name": "stdout",
     "output_type": "stream",
     "text": [
      "0.90\n"
     ]
    }
   ],
   "source": [
    "import xgboost\n",
    "print(xgboost.__version__)"
   ]
  },
  {
   "cell_type": "code",
   "execution_count": 29,
   "id": "8c4abcc2",
   "metadata": {},
   "outputs": [
    {
     "name": "stdout",
     "output_type": "stream",
     "text": [
      "3.2.1\n"
     ]
    }
   ],
   "source": [
    "import lightgbm\n",
    "print(lightgbm.__version__)"
   ]
  },
  {
   "cell_type": "code",
   "execution_count": 1,
   "id": "eb722c01",
   "metadata": {},
   "outputs": [],
   "source": [
    "from sklearn.ensemble import RandomForestRegressor"
   ]
  },
  {
   "cell_type": "code",
   "execution_count": 3,
   "id": "8817e3da",
   "metadata": {},
   "outputs": [],
   "source": [
    "#importing libraries\n",
    "\n",
    "import pandas as pd\n",
    "'''\n",
    "from numpy import mean\n",
    "from numpy import std\n",
    "from lightgbm import LGBMRegressor\n",
    "from sklearn.model_selection import cross_val_score\n",
    "from sklearn.model_selection import RepeatedKFold\n",
    "from matplotlib import pyplot\n",
    "'''\n",
    "\n",
    "\n",
    "\n",
    "import math\n",
    "import numpy as np\n",
    "import pandas as pd\n",
    "import matplotlib.pyplot as plt\n",
    "%matplotlib inline\n",
    "import seaborn as sns\n",
    "from scipy.stats import norm\n",
    "import lightgbm as lgb\n",
    "from sklearn.model_selection import train_test_split\n",
    "from sklearn.metrics import mean_squared_log_error\n",
    "from sklearn.model_selection import cross_val_score, cross_val_predict\n",
    "\n",
    "\n",
    "from sklearn import preprocessing\n",
    "from sklearn.preprocessing import MaxAbsScaler"
   ]
  },
  {
   "cell_type": "code",
   "execution_count": 4,
   "id": "17fd8365",
   "metadata": {},
   "outputs": [
    {
     "data": {
      "text/html": [
       "<div>\n",
       "<style scoped>\n",
       "    .dataframe tbody tr th:only-of-type {\n",
       "        vertical-align: middle;\n",
       "    }\n",
       "\n",
       "    .dataframe tbody tr th {\n",
       "        vertical-align: top;\n",
       "    }\n",
       "\n",
       "    .dataframe thead th {\n",
       "        text-align: right;\n",
       "    }\n",
       "</style>\n",
       "<table border=\"1\" class=\"dataframe\">\n",
       "  <thead>\n",
       "    <tr style=\"text-align: right;\">\n",
       "      <th></th>\n",
       "      <th>year</th>\n",
       "      <th>month</th>\n",
       "      <th>day</th>\n",
       "      <th>day_of_week</th>\n",
       "      <th>day_of_year</th>\n",
       "      <th>quarter</th>\n",
       "      <th>hour</th>\n",
       "      <th>minute</th>\n",
       "      <th>second</th>\n",
       "      <th>temp</th>\n",
       "      <th>cond</th>\n",
       "      <th>do</th>\n",
       "      <th>turb</th>\n",
       "      <th>chl-a</th>\n",
       "    </tr>\n",
       "  </thead>\n",
       "  <tbody>\n",
       "    <tr>\n",
       "      <th>0</th>\n",
       "      <td>2019</td>\n",
       "      <td>3</td>\n",
       "      <td>28</td>\n",
       "      <td>3</td>\n",
       "      <td>87</td>\n",
       "      <td>1</td>\n",
       "      <td>0</td>\n",
       "      <td>43</td>\n",
       "      <td>9</td>\n",
       "      <td>30.67318</td>\n",
       "      <td>94.64645</td>\n",
       "      <td>7.890586</td>\n",
       "      <td>34.89499</td>\n",
       "      <td>329.58420</td>\n",
       "    </tr>\n",
       "    <tr>\n",
       "      <th>1</th>\n",
       "      <td>2019</td>\n",
       "      <td>3</td>\n",
       "      <td>13</td>\n",
       "      <td>2</td>\n",
       "      <td>72</td>\n",
       "      <td>1</td>\n",
       "      <td>3</td>\n",
       "      <td>58</td>\n",
       "      <td>5</td>\n",
       "      <td>29.37799</td>\n",
       "      <td>88.46648</td>\n",
       "      <td>2.994163</td>\n",
       "      <td>28.22379</td>\n",
       "      <td>75.43412</td>\n",
       "    </tr>\n",
       "    <tr>\n",
       "      <th>2</th>\n",
       "      <td>2019</td>\n",
       "      <td>3</td>\n",
       "      <td>12</td>\n",
       "      <td>1</td>\n",
       "      <td>71</td>\n",
       "      <td>1</td>\n",
       "      <td>1</td>\n",
       "      <td>38</td>\n",
       "      <td>5</td>\n",
       "      <td>29.63066</td>\n",
       "      <td>87.79338</td>\n",
       "      <td>3.759133</td>\n",
       "      <td>27.81244</td>\n",
       "      <td>61.83861</td>\n",
       "    </tr>\n",
       "    <tr>\n",
       "      <th>3</th>\n",
       "      <td>2019</td>\n",
       "      <td>3</td>\n",
       "      <td>27</td>\n",
       "      <td>2</td>\n",
       "      <td>86</td>\n",
       "      <td>1</td>\n",
       "      <td>11</td>\n",
       "      <td>33</td>\n",
       "      <td>9</td>\n",
       "      <td>30.25711</td>\n",
       "      <td>94.01340</td>\n",
       "      <td>7.265454</td>\n",
       "      <td>59.38213</td>\n",
       "      <td>328.57310</td>\n",
       "    </tr>\n",
       "    <tr>\n",
       "      <th>4</th>\n",
       "      <td>2019</td>\n",
       "      <td>10</td>\n",
       "      <td>3</td>\n",
       "      <td>3</td>\n",
       "      <td>276</td>\n",
       "      <td>4</td>\n",
       "      <td>10</td>\n",
       "      <td>43</td>\n",
       "      <td>9</td>\n",
       "      <td>28.85477</td>\n",
       "      <td>113.77930</td>\n",
       "      <td>5.524088</td>\n",
       "      <td>111.27610</td>\n",
       "      <td>738.35680</td>\n",
       "    </tr>\n",
       "  </tbody>\n",
       "</table>\n",
       "</div>"
      ],
      "text/plain": [
       "   year  month  day  day_of_week  day_of_year  quarter  hour  minute  second  \\\n",
       "0  2019      3   28            3           87        1     0      43       9   \n",
       "1  2019      3   13            2           72        1     3      58       5   \n",
       "2  2019      3   12            1           71        1     1      38       5   \n",
       "3  2019      3   27            2           86        1    11      33       9   \n",
       "4  2019     10    3            3          276        4    10      43       9   \n",
       "\n",
       "       temp       cond        do       turb      chl-a  \n",
       "0  30.67318   94.64645  7.890586   34.89499  329.58420  \n",
       "1  29.37799   88.46648  2.994163   28.22379   75.43412  \n",
       "2  29.63066   87.79338  3.759133   27.81244   61.83861  \n",
       "3  30.25711   94.01340  7.265454   59.38213  328.57310  \n",
       "4  28.85477  113.77930  5.524088  111.27610  738.35680  "
      ]
     },
     "execution_count": 4,
     "metadata": {},
     "output_type": "execute_result"
    }
   ],
   "source": [
    "#importing datasets\n",
    "train_dataset = pd.read_csv('feature_engineered_train_dataset.csv', header=0) #, header=0, parse_dates=['datetime']\n",
    "train_dataset = train_dataset.drop(labels= 'Unnamed: 0' , axis=1)\n",
    "train_dataset.head()\n"
   ]
  },
  {
   "cell_type": "code",
   "execution_count": 5,
   "id": "c59269fe",
   "metadata": {},
   "outputs": [
    {
     "data": {
      "text/html": [
       "<div>\n",
       "<style scoped>\n",
       "    .dataframe tbody tr th:only-of-type {\n",
       "        vertical-align: middle;\n",
       "    }\n",
       "\n",
       "    .dataframe tbody tr th {\n",
       "        vertical-align: top;\n",
       "    }\n",
       "\n",
       "    .dataframe thead th {\n",
       "        text-align: right;\n",
       "    }\n",
       "</style>\n",
       "<table border=\"1\" class=\"dataframe\">\n",
       "  <thead>\n",
       "    <tr style=\"text-align: right;\">\n",
       "      <th></th>\n",
       "      <th>year</th>\n",
       "      <th>month</th>\n",
       "      <th>day</th>\n",
       "      <th>day_of_week</th>\n",
       "      <th>day_of_year</th>\n",
       "      <th>quarter</th>\n",
       "      <th>hour</th>\n",
       "      <th>minute</th>\n",
       "      <th>second</th>\n",
       "      <th>temp</th>\n",
       "      <th>cond</th>\n",
       "      <th>do</th>\n",
       "      <th>turb</th>\n",
       "      <th>chl-a</th>\n",
       "    </tr>\n",
       "  </thead>\n",
       "  <tbody>\n",
       "    <tr>\n",
       "      <th>0</th>\n",
       "      <td>2019</td>\n",
       "      <td>2</td>\n",
       "      <td>20</td>\n",
       "      <td>2</td>\n",
       "      <td>51</td>\n",
       "      <td>1</td>\n",
       "      <td>12</td>\n",
       "      <td>0</td>\n",
       "      <td>0</td>\n",
       "      <td>29.55674</td>\n",
       "      <td>92.12651</td>\n",
       "      <td>6.491213</td>\n",
       "      <td>32.86783</td>\n",
       "      <td>39.64875</td>\n",
       "    </tr>\n",
       "    <tr>\n",
       "      <th>1</th>\n",
       "      <td>2019</td>\n",
       "      <td>2</td>\n",
       "      <td>20</td>\n",
       "      <td>2</td>\n",
       "      <td>51</td>\n",
       "      <td>1</td>\n",
       "      <td>12</td>\n",
       "      <td>10</td>\n",
       "      <td>0</td>\n",
       "      <td>29.59175</td>\n",
       "      <td>92.22813</td>\n",
       "      <td>6.724226</td>\n",
       "      <td>24.30492</td>\n",
       "      <td>40.57396</td>\n",
       "    </tr>\n",
       "    <tr>\n",
       "      <th>2</th>\n",
       "      <td>2019</td>\n",
       "      <td>2</td>\n",
       "      <td>20</td>\n",
       "      <td>2</td>\n",
       "      <td>51</td>\n",
       "      <td>1</td>\n",
       "      <td>12</td>\n",
       "      <td>20</td>\n",
       "      <td>0</td>\n",
       "      <td>29.57693</td>\n",
       "      <td>91.93182</td>\n",
       "      <td>6.677357</td>\n",
       "      <td>47.46174</td>\n",
       "      <td>40.88269</td>\n",
       "    </tr>\n",
       "    <tr>\n",
       "      <th>3</th>\n",
       "      <td>2019</td>\n",
       "      <td>2</td>\n",
       "      <td>20</td>\n",
       "      <td>2</td>\n",
       "      <td>51</td>\n",
       "      <td>1</td>\n",
       "      <td>12</td>\n",
       "      <td>40</td>\n",
       "      <td>0</td>\n",
       "      <td>29.64378</td>\n",
       "      <td>92.78736</td>\n",
       "      <td>7.629431</td>\n",
       "      <td>26.58170</td>\n",
       "      <td>47.05107</td>\n",
       "    </tr>\n",
       "    <tr>\n",
       "      <th>4</th>\n",
       "      <td>2019</td>\n",
       "      <td>2</td>\n",
       "      <td>20</td>\n",
       "      <td>2</td>\n",
       "      <td>51</td>\n",
       "      <td>1</td>\n",
       "      <td>14</td>\n",
       "      <td>40</td>\n",
       "      <td>0</td>\n",
       "      <td>29.67038</td>\n",
       "      <td>91.74003</td>\n",
       "      <td>8.935707</td>\n",
       "      <td>40.49232</td>\n",
       "      <td>59.39921</td>\n",
       "    </tr>\n",
       "  </tbody>\n",
       "</table>\n",
       "</div>"
      ],
      "text/plain": [
       "   year  month  day  day_of_week  day_of_year  quarter  hour  minute  second  \\\n",
       "0  2019      2   20            2           51        1    12       0       0   \n",
       "1  2019      2   20            2           51        1    12      10       0   \n",
       "2  2019      2   20            2           51        1    12      20       0   \n",
       "3  2019      2   20            2           51        1    12      40       0   \n",
       "4  2019      2   20            2           51        1    14      40       0   \n",
       "\n",
       "       temp      cond        do      turb     chl-a  \n",
       "0  29.55674  92.12651  6.491213  32.86783  39.64875  \n",
       "1  29.59175  92.22813  6.724226  24.30492  40.57396  \n",
       "2  29.57693  91.93182  6.677357  47.46174  40.88269  \n",
       "3  29.64378  92.78736  7.629431  26.58170  47.05107  \n",
       "4  29.67038  91.74003  8.935707  40.49232  59.39921  "
      ]
     },
     "execution_count": 5,
     "metadata": {},
     "output_type": "execute_result"
    }
   ],
   "source": [
    "#importing datasets\n",
    "test_dataset = pd.read_csv('feature_engineered_test_dataset.csv', header=0) #, header=0, parse_dates=['datetime']\n",
    "test_dataset = test_dataset.drop(labels= 'Unnamed: 0' , axis=1)\n",
    "test_dataset.head()\n"
   ]
  },
  {
   "cell_type": "code",
   "execution_count": 6,
   "id": "7ac4e0f4",
   "metadata": {},
   "outputs": [
    {
     "name": "stdout",
     "output_type": "stream",
     "text": [
      "(6813, 13)\n",
      "(6813,)\n",
      "(1703, 13)\n",
      "(1703,)\n"
     ]
    }
   ],
   "source": [
    "train_X = train_dataset.iloc[:,0:13]\n",
    "print(train_X.shape)\n",
    "train_Y = train_dataset.iloc[:, 13]\n",
    "print(train_Y.shape)\n",
    "\n",
    "test_X = test_dataset.iloc[:,0:13]\n",
    "print(test_X.shape)\n",
    "test_Y = test_dataset.iloc[:, 13]\n",
    "print(test_Y.shape)"
   ]
  },
  {
   "cell_type": "code",
   "execution_count": 7,
   "id": "a8ac9616",
   "metadata": {},
   "outputs": [
    {
     "name": "stdout",
     "output_type": "stream",
     "text": [
      "[[1.         0.3        0.90322581 ... 0.78118266 0.60449114 0.12825136]\n",
      " [1.         0.3        0.41935484 ... 0.73017509 0.2293803  0.10373236]\n",
      " [1.         0.3        0.38709677 ... 0.72461953 0.28798401 0.1022205 ]\n",
      " ...\n",
      " [1.         0.4        0.12903226 ... 0.61107588 0.04694523 0.20985557]\n",
      " [1.         0.3        0.61290323 ... 0.79371622 0.68367788 0.90942794]\n",
      " [1.         0.3        0.09677419 ... 0.8153153  0.46290531 0.2064666 ]]\n"
     ]
    }
   ],
   "source": [
    "#Preprocessing with MaxAbsScaler\n",
    "\n",
    "MaxAbsScaler = MaxAbsScaler()\n",
    "train_X = MaxAbsScaler.fit_transform(train_X)\n",
    "\n",
    "test_X = MaxAbsScaler.fit_transform(test_X)\n",
    "train_X.shape\n",
    "print(train_X)"
   ]
  },
  {
   "cell_type": "code",
   "execution_count": 8,
   "id": "90e07c29",
   "metadata": {},
   "outputs": [
    {
     "name": "stdout",
     "output_type": "stream",
     "text": [
      "MAE: -13.407 (0.977)\n",
      "Prediction: 49.600\n",
      "Actual: 39.649\n"
     ]
    }
   ],
   "source": [
    "# #LightGBM Model\n",
    "# model = LGBMRegressor()\n",
    "# cv = RepeatedKFold(n_splits=10, n_repeats=3)\n",
    "# n_scores = cross_val_score(model, train_X, train_Y, scoring='neg_mean_absolute_error', cv=cv, n_jobs=-1, error_score='raise')\n",
    "# print('MAE: %.3f (%.3f)' % (mean(n_scores), std(n_scores)))\n",
    "\n",
    "# hyper_params = {\n",
    "#     'task': 'train',\n",
    "#     'boosting_type': 'gbdt',\n",
    "#     'objective': 'regression',\n",
    "#     'metric': ['l1','l2'],\n",
    "#     'learning_rate': 0.005,\n",
    "#     'feature_fraction': 0.9,\n",
    "#     'bagging_fraction': 0.7,\n",
    "#     'bagging_freq': 10,\n",
    "#     'verbose': 0,\n",
    "#     \"max_depth\": 8,\n",
    "#     \"num_leaves\": 128,  \n",
    "#     \"max_bin\": 512,\n",
    "#     \"num_iterations\": 100000\n",
    "# }\n",
    "\n",
    "from lightgbm import LGBMRegressor\n",
    "from sklearn.model_selection import RepeatedKFold\n",
    "from numpy import mean\n",
    "from numpy import std\n",
    "from xgboost import XGBRegressor\n",
    "from sklearn.ensemble import RandomForestRegressor\n",
    "\n",
    "model = RandomForestRegressor()\n",
    "#model = LGBMRegressor(min_data_in_leaf= 20)\n",
    "\n",
    "#model = XGBRegressor(tree_method= 'auto')\n",
    "\n",
    "cv = RepeatedKFold(n_splits=10, n_repeats=3)\n",
    "n_scores = cross_val_score(model, train_X, train_Y, scoring='neg_mean_absolute_error', cv=cv) #, n_jobs=-1, error_score='raise'\n",
    "print('MAE: %.3f (%.3f)' % (mean(n_scores), std(n_scores)))\n",
    "\n",
    "\n",
    "\n",
    "model.fit(train_X, train_Y)\n",
    "\n",
    "\n",
    "\n",
    "yhat = model.predict(test_X)\n",
    "\n",
    "print('Prediction: %.3f' % yhat[0])\n",
    "print('Actual: %.3f' % test_Y[0])\n",
    "\n",
    "# param = {\n",
    "#          'min_data_in_leaf': 20    # set dangerously low for demo purpose\n",
    "# }\n",
    "\n",
    "# gbm = lgb.LGBMRegressor(param) #**hyper_params\n",
    "\n",
    "\n",
    "\n",
    "# gbm.fit(train_X, train_Y,\n",
    "#         eval_set=[(test_X, test_Y)],\n",
    "#         eval_metric='rmse')\n",
    "\n"
   ]
  },
  {
   "cell_type": "code",
   "execution_count": 9,
   "id": "29766aa8",
   "metadata": {},
   "outputs": [
    {
     "data": {
      "image/png": "[encoded data removed]",
      "text/plain": [
       "<Figure size 864x360 with 1 Axes>"
      ]
     },
     "metadata": {
      "needs_background": "light"
     },
     "output_type": "display_data"
    }
   ],
   "source": [
    "import matplotlib.pyplot as plt\n",
    "\n",
    "plt.figure(figsize=(12,5))\n",
    "\n",
    "plt.ylabel('Chl-a Concentration (µg/L)')\n",
    "\n",
    "plt.plot(test_Y, color='blue', label = 'Actual')\n",
    "\n",
    "plt.plot(yhat, color='red', label = 'Predicted')\n",
    "\n",
    "ax = plt.gca()\n",
    "ax.axes.xaxis.set_visible(False)\n",
    "plt.xlabel('February to March')\n",
    "plt.legend()\n",
    "plt.show()"
   ]
  },
  {
   "cell_type": "code",
   "execution_count": 10,
   "id": "e9a26e31",
   "metadata": {},
   "outputs": [
    {
     "name": "stdout",
     "output_type": "stream",
     "text": [
      "Test RMSE: 68.152\n",
      "Test R2 Score:  0.9285114360241052\n"
     ]
    }
   ],
   "source": [
    "from math import sqrt\n",
    "from sklearn.metrics import mean_squared_error, r2_score\n",
    "\n",
    "# calculate RMSE\n",
    "rmse = sqrt(mean_squared_error(test_Y, yhat))\n",
    "print('Test RMSE: %.3f' % rmse)\n",
    "\n",
    "# rmse = sqrt(mean_squared_error(train_labels_rand, yhat_trn))\n",
    "# print('Train RMSE: %.3f' % rmse)\n",
    "\n",
    "print('Test R2 Score: ', r2_score(test_Y, yhat))\n",
    "\n",
    "# print('Train R2 Score: ', r2_score(train_labels_rand, yhat_trn))"
   ]
  },
  {
   "cell_type": "code",
   "execution_count": 63,
   "id": "ceabbfa4",
   "metadata": {},
   "outputs": [
    {
     "ename": "TypeError",
     "evalue": "plot_importance() missing 1 required positional argument: 'booster'",
     "output_type": "error",
     "traceback": [
      "\u001b[1;31m---------------------------------------------------------------------------\u001b[0m",
      "\u001b[1;31mTypeError\u001b[0m                                 Traceback (most recent call last)",
      "\u001b[1;32m<ipython-input-63-dd92f417ccd0>\u001b[0m in \u001b[0;36m<module>\u001b[1;34m\u001b[0m\n\u001b[1;32m----> 1\u001b[1;33m \u001b[0mlightgbm\u001b[0m\u001b[1;33m.\u001b[0m\u001b[0mplot_importance\u001b[0m\u001b[1;33m(\u001b[0m \u001b[0max\u001b[0m\u001b[1;33m=\u001b[0m\u001b[1;32mNone\u001b[0m\u001b[1;33m,\u001b[0m \u001b[0mheight\u001b[0m\u001b[1;33m=\u001b[0m\u001b[1;36m0.2\u001b[0m\u001b[1;33m,\u001b[0m \u001b[0mxlim\u001b[0m\u001b[1;33m=\u001b[0m\u001b[1;32mNone\u001b[0m\u001b[1;33m,\u001b[0m \u001b[0mylim\u001b[0m\u001b[1;33m=\u001b[0m\u001b[1;32mNone\u001b[0m\u001b[1;33m,\u001b[0m \u001b[0mtitle\u001b[0m\u001b[1;33m=\u001b[0m\u001b[1;34m'Feature importance'\u001b[0m\u001b[1;33m,\u001b[0m \u001b[0mxlabel\u001b[0m\u001b[1;33m=\u001b[0m\u001b[1;34m'Feature importance'\u001b[0m\u001b[1;33m,\u001b[0m \u001b[0mylabel\u001b[0m\u001b[1;33m=\u001b[0m\u001b[1;34m'Features'\u001b[0m\u001b[1;33m,\u001b[0m \u001b[0mimportance_type\u001b[0m\u001b[1;33m=\u001b[0m\u001b[1;34m'auto'\u001b[0m\u001b[1;33m,\u001b[0m \u001b[0mmax_num_features\u001b[0m\u001b[1;33m=\u001b[0m\u001b[1;32mNone\u001b[0m\u001b[1;33m,\u001b[0m \u001b[0mignore_zero\u001b[0m\u001b[1;33m=\u001b[0m\u001b[1;32mTrue\u001b[0m\u001b[1;33m,\u001b[0m \u001b[0mfigsize\u001b[0m\u001b[1;33m=\u001b[0m\u001b[1;32mNone\u001b[0m\u001b[1;33m,\u001b[0m \u001b[0mdpi\u001b[0m\u001b[1;33m=\u001b[0m\u001b[1;32mNone\u001b[0m\u001b[1;33m,\u001b[0m \u001b[0mgrid\u001b[0m\u001b[1;33m=\u001b[0m\u001b[1;32mTrue\u001b[0m\u001b[1;33m,\u001b[0m \u001b[0mprecision\u001b[0m\u001b[1;33m=\u001b[0m\u001b[1;36m3\u001b[0m\u001b[1;33m)\u001b[0m\u001b[1;33m\u001b[0m\u001b[1;33m\u001b[0m\u001b[0m\n\u001b[0m",
      "\u001b[1;31mTypeError\u001b[0m: plot_importance() missing 1 required positional argument: 'booster'"
     ]
    }
   ],
   "source": [
    "lightgbm.plot_importance( ax=None, height=0.2, xlim=None, ylim=None, title='Feature importance', xlabel='Feature importance', ylabel='Features', importance_type='auto', max_num_features=None, ignore_zero=True, figsize=None, dpi=None, grid=True, precision=3)"
   ]
  }
 ],
 "metadata": {
  "kernelspec": {
   "display_name": "Python 3",
   "language": "python",
   "name": "python3"
  },
  "language_info": {
   "codemirror_mode": {
    "name": "ipython",
    "version": 3
   },
   "file_extension": ".py",
   "mimetype": "text/x-python",
   "name": "python",
   "nbconvert_exporter": "python",
   "pygments_lexer": "ipython3",
   "version": "3.6.13"
  }
 },
 "nbformat": 4,
 "nbformat_minor": 5
}
