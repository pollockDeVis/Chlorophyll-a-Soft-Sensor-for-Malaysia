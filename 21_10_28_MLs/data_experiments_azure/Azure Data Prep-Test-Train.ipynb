{
 "cells": [
  {
   "cell_type": "code",
   "execution_count": 1,
   "id": "5ee18561",
   "metadata": {},
   "outputs": [],
   "source": [
    "import pickle\n",
    "import pandas as pd\n",
    "import numpy as np\n",
    "import matplotlib.pyplot as plt\n",
    "from sklearn.preprocessing import MinMaxScaler\n",
    "from sklearn.metrics import mean_squared_error, r2_score"
   ]
  },
  {
   "cell_type": "code",
   "execution_count": 2,
   "id": "6690b118",
   "metadata": {},
   "outputs": [
    {
     "name": "stdout",
     "output_type": "stream",
     "text": [
      "(8516, 5)\n"
     ]
    },
    {
     "data": {
      "text/html": [
       "<div>\n",
       "<style scoped>\n",
       "    .dataframe tbody tr th:only-of-type {\n",
       "        vertical-align: middle;\n",
       "    }\n",
       "\n",
       "    .dataframe tbody tr th {\n",
       "        vertical-align: top;\n",
       "    }\n",
       "\n",
       "    .dataframe thead th {\n",
       "        text-align: right;\n",
       "    }\n",
       "</style>\n",
       "<table border=\"1\" class=\"dataframe\">\n",
       "  <thead>\n",
       "    <tr style=\"text-align: right;\">\n",
       "      <th></th>\n",
       "      <th>temp</th>\n",
       "      <th>cond</th>\n",
       "      <th>do</th>\n",
       "      <th>turb</th>\n",
       "      <th>chl-a</th>\n",
       "    </tr>\n",
       "    <tr>\n",
       "      <th>datetime</th>\n",
       "      <th></th>\n",
       "      <th></th>\n",
       "      <th></th>\n",
       "      <th></th>\n",
       "      <th></th>\n",
       "    </tr>\n",
       "  </thead>\n",
       "  <tbody>\n",
       "    <tr>\n",
       "      <th>2019-10-07 14:43:57</th>\n",
       "      <td>28.97082</td>\n",
       "      <td>115.0504</td>\n",
       "      <td>5.775121</td>\n",
       "      <td>165.7193</td>\n",
       "      <td>971.7914</td>\n",
       "    </tr>\n",
       "    <tr>\n",
       "      <th>2019-10-07 14:58:57</th>\n",
       "      <td>29.59904</td>\n",
       "      <td>120.0654</td>\n",
       "      <td>11.594970</td>\n",
       "      <td>188.2978</td>\n",
       "      <td>1027.1150</td>\n",
       "    </tr>\n",
       "    <tr>\n",
       "      <th>2019-10-07 17:13:57</th>\n",
       "      <td>29.18500</td>\n",
       "      <td>115.7554</td>\n",
       "      <td>7.265903</td>\n",
       "      <td>251.9312</td>\n",
       "      <td>1032.9170</td>\n",
       "    </tr>\n",
       "    <tr>\n",
       "      <th>2019-10-08 14:44:46</th>\n",
       "      <td>28.89604</td>\n",
       "      <td>115.3140</td>\n",
       "      <td>6.730115</td>\n",
       "      <td>239.6638</td>\n",
       "      <td>1059.8350</td>\n",
       "    </tr>\n",
       "    <tr>\n",
       "      <th>2019-10-09 09:00:26</th>\n",
       "      <td>28.61342</td>\n",
       "      <td>114.8307</td>\n",
       "      <td>4.135980</td>\n",
       "      <td>258.1431</td>\n",
       "      <td>767.3123</td>\n",
       "    </tr>\n",
       "  </tbody>\n",
       "</table>\n",
       "</div>"
      ],
      "text/plain": [
       "                         temp      cond         do      turb      chl-a\n",
       "datetime                                                               \n",
       "2019-10-07 14:43:57  28.97082  115.0504   5.775121  165.7193   971.7914\n",
       "2019-10-07 14:58:57  29.59904  120.0654  11.594970  188.2978  1027.1150\n",
       "2019-10-07 17:13:57  29.18500  115.7554   7.265903  251.9312  1032.9170\n",
       "2019-10-08 14:44:46  28.89604  115.3140   6.730115  239.6638  1059.8350\n",
       "2019-10-09 09:00:26  28.61342  114.8307   4.135980  258.1431   767.3123"
      ]
     },
     "execution_count": 2,
     "metadata": {},
     "output_type": "execute_result"
    }
   ],
   "source": [
    "#Importing the Entire Dataset\n",
    "dataset_full = pd.read_csv('2021_10_24_cleaned_lake_dataset_full.csv', header=0, index_col=0)\n",
    "dataset_full = dataset_full.rename(columns={'actual_conductivity':'cond', 'do_concentration':'do', 'turbidity':'turb', 'chl-a_concentration':'chl-a', 'temperature':'temp'})\n",
    "dataset_full = dataset_full[['temp', 'cond', 'do', 'turb', 'chl-a']]\n",
    "dataset_full.sort_index()\n",
    "print(dataset_full.shape)\n",
    "dataset_full.tail()"
   ]
  },
  {
   "cell_type": "code",
   "execution_count": 3,
   "id": "41890a09",
   "metadata": {},
   "outputs": [
    {
     "name": "stdout",
     "output_type": "stream",
     "text": [
      "(6212, 5)\n"
     ]
    },
    {
     "data": {
      "text/html": [
       "<div>\n",
       "<style scoped>\n",
       "    .dataframe tbody tr th:only-of-type {\n",
       "        vertical-align: middle;\n",
       "    }\n",
       "\n",
       "    .dataframe tbody tr th {\n",
       "        vertical-align: top;\n",
       "    }\n",
       "\n",
       "    .dataframe thead th {\n",
       "        text-align: right;\n",
       "    }\n",
       "</style>\n",
       "<table border=\"1\" class=\"dataframe\">\n",
       "  <thead>\n",
       "    <tr style=\"text-align: right;\">\n",
       "      <th></th>\n",
       "      <th>temp</th>\n",
       "      <th>cond</th>\n",
       "      <th>do</th>\n",
       "      <th>turb</th>\n",
       "      <th>chl-a</th>\n",
       "    </tr>\n",
       "    <tr>\n",
       "      <th>datetime</th>\n",
       "      <th></th>\n",
       "      <th></th>\n",
       "      <th></th>\n",
       "      <th></th>\n",
       "      <th></th>\n",
       "    </tr>\n",
       "  </thead>\n",
       "  <tbody>\n",
       "    <tr>\n",
       "      <th>2019-04-05 09:00:17</th>\n",
       "      <td>28.91959</td>\n",
       "      <td>76.91243</td>\n",
       "      <td>3.080355</td>\n",
       "      <td>63.40566</td>\n",
       "      <td>49.60603</td>\n",
       "    </tr>\n",
       "    <tr>\n",
       "      <th>2019-04-05 09:10:17</th>\n",
       "      <td>28.94431</td>\n",
       "      <td>76.73137</td>\n",
       "      <td>3.062878</td>\n",
       "      <td>72.05052</td>\n",
       "      <td>47.30184</td>\n",
       "    </tr>\n",
       "    <tr>\n",
       "      <th>2019-04-05 09:20:17</th>\n",
       "      <td>28.93608</td>\n",
       "      <td>76.69234</td>\n",
       "      <td>2.589782</td>\n",
       "      <td>63.05659</td>\n",
       "      <td>44.22813</td>\n",
       "    </tr>\n",
       "    <tr>\n",
       "      <th>2019-04-05 09:30:17</th>\n",
       "      <td>28.94136</td>\n",
       "      <td>76.72667</td>\n",
       "      <td>2.999108</td>\n",
       "      <td>80.66748</td>\n",
       "      <td>45.35073</td>\n",
       "    </tr>\n",
       "    <tr>\n",
       "      <th>2019-04-05 09:40:17</th>\n",
       "      <td>28.96102</td>\n",
       "      <td>76.72181</td>\n",
       "      <td>3.165897</td>\n",
       "      <td>68.04305</td>\n",
       "      <td>44.16881</td>\n",
       "    </tr>\n",
       "  </tbody>\n",
       "</table>\n",
       "</div>"
      ],
      "text/plain": [
       "                         temp      cond        do      turb     chl-a\n",
       "datetime                                                             \n",
       "2019-04-05 09:00:17  28.91959  76.91243  3.080355  63.40566  49.60603\n",
       "2019-04-05 09:10:17  28.94431  76.73137  3.062878  72.05052  47.30184\n",
       "2019-04-05 09:20:17  28.93608  76.69234  2.589782  63.05659  44.22813\n",
       "2019-04-05 09:30:17  28.94136  76.72667  2.999108  80.66748  45.35073\n",
       "2019-04-05 09:40:17  28.96102  76.72181  3.165897  68.04305  44.16881"
      ]
     },
     "execution_count": 3,
     "metadata": {},
     "output_type": "execute_result"
    }
   ],
   "source": [
    "#Importing the Feb-Apr Dataset\n",
    "dataset_feb_apr = pd.read_csv('2021_11_03_cleaned_lake_dataset_feb-apr.csv', header=0, index_col=0)\n",
    "dataset_feb_apr = dataset_feb_apr.rename(columns={'actual_conductivity':'cond', 'do_concentration':'do', 'turbidity':'turb', 'chl-a_concentration':'chl-a', 'temperature':'temp'})\n",
    "dataset_feb_apr = dataset_feb_apr[['temp', 'cond', 'do', 'turb', 'chl-a']]\n",
    "dataset_feb_apr.sort_index()\n",
    "print(dataset_feb_apr.shape)\n",
    "dataset_feb_apr.tail()"
   ]
  },
  {
   "cell_type": "code",
   "execution_count": 4,
   "id": "4f79b7b3",
   "metadata": {},
   "outputs": [
    {
     "name": "stdout",
     "output_type": "stream",
     "text": [
      "(6813, 5)\n",
      "(1703, 5)\n"
     ]
    },
    {
     "data": {
      "image/png": "[encoded data removed]",
      "text/plain": [
       "<Figure size 432x288 with 1 Axes>"
      ]
     },
     "metadata": {
      "needs_background": "light"
     },
     "output_type": "display_data"
    },
    {
     "data": {
      "image/png": "[encoded data removed]",
      "text/plain": [
       "<Figure size 432x288 with 1 Axes>"
      ]
     },
     "metadata": {
      "needs_background": "light"
     },
     "output_type": "display_data"
    }
   ],
   "source": [
    "#Entire Dataset Train-Test Random Split 80-20\n",
    "\n",
    "train_dataset_full = dataset_full.sample(frac=0.8) #80% split\n",
    "test_dataset_full = dataset_full.drop(train_dataset_full.index)\n",
    "\n",
    "print(train_dataset_full.shape)\n",
    "print(test_dataset_full.shape)\n",
    "\n",
    "ax = train_dataset_full.plot.hist(bins=12, alpha=0.5)\n",
    "ax2 = test_dataset_full.plot.hist(bins=12, alpha=0.5)\n",
    "\n",
    "#Commented out cause every time new randomly split data will be generated\n",
    "#Load test data while testing Pickle Model\n",
    "\n",
    "# train_dataset_full.to_csv(\"azure_wq_train_entire_dataset.csv\")\n",
    "# test_dataset_full.to_csv(\"azure_wq_test_entire_dataset.csv\")"
   ]
  },
  {
   "cell_type": "code",
   "execution_count": 5,
   "id": "a8f575e1",
   "metadata": {},
   "outputs": [
    {
     "name": "stdout",
     "output_type": "stream",
     "text": [
      "(4970, 5)\n",
      "(1242, 5)\n"
     ]
    },
    {
     "data": {
      "image/png": "[encoded data removed]",
      "text/plain": [
       "<Figure size 432x288 with 1 Axes>"
      ]
     },
     "metadata": {
      "needs_background": "light"
     },
     "output_type": "display_data"
    }
   ],
   "source": [
    "#Feb-Apr Dataset Train-Test Random Split 80-20\n",
    "\n",
    "train_dataset_feb_apr = dataset_feb_apr.sample(frac=0.8) #80% split\n",
    "test_dataset_feb_apr = dataset_feb_apr.drop(train_dataset_feb_apr.index)\n",
    "\n",
    "print(train_dataset_feb_apr.shape)\n",
    "print(test_dataset_feb_apr.shape)\n",
    "\n",
    "param = 'chl-a'\n",
    "ax = train_dataset_feb_apr[param].plot.hist(bins=50, alpha=0.5)\n",
    "ax2 = test_dataset_feb_apr[param].plot.hist(bins=50, alpha=0.5)\n",
    "\n",
    "#'temp', 'cond', 'do', 'turb', 'chl-a'\n",
    "#Commented out cause every time new randomly split data will be generated\n",
    "#Load test data while testing Pickle Model\n",
    "\n",
    "# train_dataset_feb_apr.to_csv(\"azure_wq_train_feb_apr_dataset.csv\")\n",
    "# test_dataset_feb_apr.to_csv(\"azure_wq_test_feb_apr_dataset.csv\")"
   ]
  },
  {
   "cell_type": "markdown",
   "id": "a94d7e45",
   "metadata": {},
   "source": [
    "# Testing the Azure Entire Dataset Model\n"
   ]
  },
  {
   "cell_type": "code",
   "execution_count": 32,
   "id": "6745e0b6",
   "metadata": {},
   "outputs": [
    {
     "name": "stdout",
     "output_type": "stream",
     "text": [
      "(1703, 6)\n"
     ]
    },
    {
     "data": {
      "text/html": [
       "<div>\n",
       "<style scoped>\n",
       "    .dataframe tbody tr th:only-of-type {\n",
       "        vertical-align: middle;\n",
       "    }\n",
       "\n",
       "    .dataframe tbody tr th {\n",
       "        vertical-align: top;\n",
       "    }\n",
       "\n",
       "    .dataframe thead th {\n",
       "        text-align: right;\n",
       "    }\n",
       "</style>\n",
       "<table border=\"1\" class=\"dataframe\">\n",
       "  <thead>\n",
       "    <tr style=\"text-align: right;\">\n",
       "      <th></th>\n",
       "      <th>datetime</th>\n",
       "      <th>temp</th>\n",
       "      <th>cond</th>\n",
       "      <th>do</th>\n",
       "      <th>turb</th>\n",
       "      <th>chl-a</th>\n",
       "    </tr>\n",
       "  </thead>\n",
       "  <tbody>\n",
       "    <tr>\n",
       "      <td>1698</td>\n",
       "      <td>2019-10-07 09:28:57</td>\n",
       "      <td>28.85</td>\n",
       "      <td>114.82</td>\n",
       "      <td>4.18</td>\n",
       "      <td>233.61</td>\n",
       "      <td>756.15</td>\n",
       "    </tr>\n",
       "    <tr>\n",
       "      <td>1699</td>\n",
       "      <td>2019-10-07 09:43:57</td>\n",
       "      <td>28.86</td>\n",
       "      <td>114.97</td>\n",
       "      <td>4.15</td>\n",
       "      <td>162.08</td>\n",
       "      <td>700.53</td>\n",
       "    </tr>\n",
       "    <tr>\n",
       "      <td>1700</td>\n",
       "      <td>2019-10-07 12:13:57</td>\n",
       "      <td>28.92</td>\n",
       "      <td>114.65</td>\n",
       "      <td>4.95</td>\n",
       "      <td>198.85</td>\n",
       "      <td>705.66</td>\n",
       "    </tr>\n",
       "    <tr>\n",
       "      <td>1701</td>\n",
       "      <td>2019-10-07 12:43:57</td>\n",
       "      <td>28.96</td>\n",
       "      <td>115.16</td>\n",
       "      <td>5.22</td>\n",
       "      <td>205.18</td>\n",
       "      <td>707.68</td>\n",
       "    </tr>\n",
       "    <tr>\n",
       "      <td>1702</td>\n",
       "      <td>2019-10-08 14:44:46</td>\n",
       "      <td>28.90</td>\n",
       "      <td>115.31</td>\n",
       "      <td>6.73</td>\n",
       "      <td>239.66</td>\n",
       "      <td>1059.84</td>\n",
       "    </tr>\n",
       "  </tbody>\n",
       "</table>\n",
       "</div>"
      ],
      "text/plain": [
       "                 datetime  temp   cond   do   turb   chl-a\n",
       "1698  2019-10-07 09:28:57 28.85 114.82 4.18 233.61  756.15\n",
       "1699  2019-10-07 09:43:57 28.86 114.97 4.15 162.08  700.53\n",
       "1700  2019-10-07 12:13:57 28.92 114.65 4.95 198.85  705.66\n",
       "1701  2019-10-07 12:43:57 28.96 115.16 5.22 205.18  707.68\n",
       "1702  2019-10-08 14:44:46 28.90 115.31 6.73 239.66 1059.84"
      ]
     },
     "execution_count": 32,
     "metadata": {},
     "output_type": "execute_result"
    }
   ],
   "source": [
    "#Testing the entire dataset model\n",
    "#Incase pickle is not working, use this command in conda shell/prompt \n",
    "# conda install -c conda-forge/label/cf202003 cloudpickle\n",
    "\n",
    "filename = 'entire_ds_model.pkl'\n",
    "entire_ds_model = pickle.load(open(filename, 'rb'))\n",
    "\n",
    "#Importing the Entire Dataset\n",
    "dataset_full_test = pd.read_csv('azure_wq_test_entire_dataset.csv')\n",
    "\n",
    "dataset_full_test = dataset_full_test[['datetime','temp', 'cond', 'do', 'turb', 'chl-a']]\n",
    "dataset_full_test.sort_index()\n",
    "print(dataset_full_test.shape)\n",
    "dataset_full_test.tail()\n",
    "\n"
   ]
  },
  {
   "cell_type": "code",
   "execution_count": 33,
   "id": "9f03cd4e",
   "metadata": {},
   "outputs": [
    {
     "name": "stdout",
     "output_type": "stream",
     "text": [
      "(1703, 5)\n",
      "(1703,)\n"
     ]
    },
    {
     "data": {
      "text/plain": [
       "0   39.65\n",
       "1   40.57\n",
       "2   40.88\n",
       "3   47.05\n",
       "4   59.40\n",
       "Name: chl-a, dtype: float64"
      ]
     },
     "execution_count": 33,
     "metadata": {},
     "output_type": "execute_result"
    }
   ],
   "source": [
    "#Preparing Input & Output Features\n",
    "X = dataset_full_test[:]\n",
    "Y = X.pop('chl-a')\n",
    "print(X.shape)\n",
    "print(Y.shape)\n",
    "Y.head()"
   ]
  },
  {
   "cell_type": "code",
   "execution_count": 34,
   "id": "e3fd5dae",
   "metadata": {},
   "outputs": [
    {
     "name": "stdout",
     "output_type": "stream",
     "text": [
      "0.989325824758732\n"
     ]
    },
    {
     "data": {
      "image/png": "[encoded data removed]",
      "text/plain": [
       "<matplotlib.figure.Figure at 0x1a83f7e6080>"
      ]
     },
     "metadata": {
      "needs_background": "light"
     },
     "output_type": "display_data"
    }
   ],
   "source": [
    "#Testing the model on test dataset\n",
    "result = entire_ds_model.score(X,Y)\n",
    "predicted_Y = pd.DataFrame(entire_ds_model.predict(X))\n",
    "print(result)\n",
    "\n",
    "plt.figure(figsize=(12,5))\n",
    "\n",
    "plt.ylabel('Chl-a Concentration (µg/L)')\n",
    "\n",
    "plt.plot(Y, color='blue', label = 'Actual')\n",
    "\n",
    "plt.plot(predicted_Y, color='red', label = 'Predicted')\n",
    "\n",
    "ax = plt.gca()\n",
    "ax.axes.xaxis.set_visible(False)\n",
    "plt.legend()\n",
    "plt.show()"
   ]
  },
  {
   "cell_type": "markdown",
   "id": "6790cb2c",
   "metadata": {},
   "source": [
    "# Testing the Azure Feb-Apr Dataset Model\n"
   ]
  },
  {
   "cell_type": "code",
   "execution_count": 35,
   "id": "3c77c6a1",
   "metadata": {},
   "outputs": [
    {
     "name": "stdout",
     "output_type": "stream",
     "text": [
      "(1242, 6)\n"
     ]
    },
    {
     "data": {
      "text/html": [
       "<div>\n",
       "<style scoped>\n",
       "    .dataframe tbody tr th:only-of-type {\n",
       "        vertical-align: middle;\n",
       "    }\n",
       "\n",
       "    .dataframe tbody tr th {\n",
       "        vertical-align: top;\n",
       "    }\n",
       "\n",
       "    .dataframe thead th {\n",
       "        text-align: right;\n",
       "    }\n",
       "</style>\n",
       "<table border=\"1\" class=\"dataframe\">\n",
       "  <thead>\n",
       "    <tr style=\"text-align: right;\">\n",
       "      <th></th>\n",
       "      <th>datetime</th>\n",
       "      <th>temp</th>\n",
       "      <th>cond</th>\n",
       "      <th>do</th>\n",
       "      <th>turb</th>\n",
       "      <th>chl-a</th>\n",
       "    </tr>\n",
       "  </thead>\n",
       "  <tbody>\n",
       "    <tr>\n",
       "      <td>1237</td>\n",
       "      <td>2019-04-05 01:30:17</td>\n",
       "      <td>29.37</td>\n",
       "      <td>77.25</td>\n",
       "      <td>4.62</td>\n",
       "      <td>75.09</td>\n",
       "      <td>53.70</td>\n",
       "    </tr>\n",
       "    <tr>\n",
       "      <td>1238</td>\n",
       "      <td>2019-04-05 03:00:17</td>\n",
       "      <td>29.27</td>\n",
       "      <td>76.99</td>\n",
       "      <td>4.39</td>\n",
       "      <td>66.07</td>\n",
       "      <td>53.35</td>\n",
       "    </tr>\n",
       "    <tr>\n",
       "      <td>1239</td>\n",
       "      <td>2019-04-05 03:50:17</td>\n",
       "      <td>29.20</td>\n",
       "      <td>77.41</td>\n",
       "      <td>4.13</td>\n",
       "      <td>61.59</td>\n",
       "      <td>50.40</td>\n",
       "    </tr>\n",
       "    <tr>\n",
       "      <td>1240</td>\n",
       "      <td>2019-04-05 05:10:17</td>\n",
       "      <td>29.11</td>\n",
       "      <td>76.98</td>\n",
       "      <td>3.83</td>\n",
       "      <td>74.97</td>\n",
       "      <td>51.54</td>\n",
       "    </tr>\n",
       "    <tr>\n",
       "      <td>1241</td>\n",
       "      <td>2019-04-05 08:10:17</td>\n",
       "      <td>28.91</td>\n",
       "      <td>76.64</td>\n",
       "      <td>3.15</td>\n",
       "      <td>69.13</td>\n",
       "      <td>48.78</td>\n",
       "    </tr>\n",
       "  </tbody>\n",
       "</table>\n",
       "</div>"
      ],
      "text/plain": [
       "                 datetime  temp  cond   do  turb  chl-a\n",
       "1237  2019-04-05 01:30:17 29.37 77.25 4.62 75.09  53.70\n",
       "1238  2019-04-05 03:00:17 29.27 76.99 4.39 66.07  53.35\n",
       "1239  2019-04-05 03:50:17 29.20 77.41 4.13 61.59  50.40\n",
       "1240  2019-04-05 05:10:17 29.11 76.98 3.83 74.97  51.54\n",
       "1241  2019-04-05 08:10:17 28.91 76.64 3.15 69.13  48.78"
      ]
     },
     "execution_count": 35,
     "metadata": {},
     "output_type": "execute_result"
    }
   ],
   "source": [
    "#Testing the entire dataset model\n",
    "filename = 'feb_apr_model.pkl'\n",
    "feb_apr_ds_model = pickle.load(open(filename, 'rb'))\n",
    "\n",
    "#Importing the Entire Dataset\n",
    "dataset_feb_apr_test = pd.read_csv('azure_wq_test_feb_apr_dataset.csv')\n",
    "\n",
    "dataset_feb_apr_test = dataset_feb_apr_test[['datetime','temp', 'cond', 'do', 'turb', 'chl-a']]\n",
    "dataset_feb_apr_test.sort_index()\n",
    "print(dataset_feb_apr_test.shape)\n",
    "dataset_feb_apr_test.tail()"
   ]
  },
  {
   "cell_type": "code",
   "execution_count": 36,
   "id": "67ac931b",
   "metadata": {},
   "outputs": [
    {
     "name": "stdout",
     "output_type": "stream",
     "text": [
      "(1242, 5)\n",
      "(1242,)\n"
     ]
    },
    {
     "data": {
      "text/plain": [
       "0   39.65\n",
       "1   40.88\n",
       "2   46.68\n",
       "3   45.46\n",
       "4   52.36\n",
       "Name: chl-a, dtype: float64"
      ]
     },
     "execution_count": 36,
     "metadata": {},
     "output_type": "execute_result"
    }
   ],
   "source": [
    "#Preparing Input & Output Features\n",
    "X_2 = dataset_feb_apr_test[:]\n",
    "Y_2 = X_2.pop('chl-a')\n",
    "print(X_2.shape)\n",
    "print(Y_2.shape)\n",
    "Y_2.head()"
   ]
  },
  {
   "cell_type": "code",
   "execution_count": 37,
   "id": "12d42ca8",
   "metadata": {},
   "outputs": [
    {
     "name": "stdout",
     "output_type": "stream",
     "text": [
      "0.9960885770771088\n"
     ]
    },
    {
     "data": {
      "image/png": "[encoded data removed]",
      "text/plain": [
       "<matplotlib.figure.Figure at 0x1a849a0a438>"
      ]
     },
     "metadata": {
      "needs_background": "light"
     },
     "output_type": "display_data"
    }
   ],
   "source": [
    "#Testing the model on test dataset\n",
    "result_2 = feb_apr_ds_model.score(X_2,Y_2)\n",
    "predicted_Y_2 = pd.DataFrame(feb_apr_ds_model.predict(X_2))\n",
    "print(result_2)\n",
    "\n",
    "plt.figure(figsize=(12,5))\n",
    "\n",
    "plt.ylabel('Chl-a Concentration (µg/L)')\n",
    "\n",
    "plt.plot(Y_2, color='blue', label = 'Actual')\n",
    "\n",
    "plt.plot(predicted_Y_2, color='red', label = 'Predicted')\n",
    "\n",
    "ax = plt.gca()\n",
    "ax.axes.xaxis.set_visible(False)\n",
    "plt.legend()\n",
    "plt.show()"
   ]
  }
 ],
 "metadata": {
  "kernelspec": {
   "display_name": "Python 3",
   "language": "python",
   "name": "python3"
  },
  "language_info": {
   "codemirror_mode": {
    "name": "ipython",
    "version": 3
   },
   "file_extension": ".py",
   "mimetype": "text/x-python",
   "name": "python",
   "nbconvert_exporter": "python",
   "pygments_lexer": "ipython3",
   "version": "3.6.13"
  }
 },
 "nbformat": 4,
 "nbformat_minor": 5
}
