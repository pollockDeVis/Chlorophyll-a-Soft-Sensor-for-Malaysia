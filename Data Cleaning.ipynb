{
 "cells": [
  {
   "cell_type": "code",
   "execution_count": 18,
   "id": "0b8bc250",
   "metadata": {},
   "outputs": [],
   "source": [
    "\n",
    "#Importing Libraries\n",
    "import pandas as pd\n",
    "import datetime\n",
    "import matplotlib.pyplot as plt\n",
    "import seaborn as sns\n",
    "from scipy import stats\n",
    "import numpy as np"
   ]
  },
  {
   "cell_type": "code",
   "execution_count": 19,
   "id": "68822238",
   "metadata": {},
   "outputs": [],
   "source": [
    "#Reading excel file and converting date time to pandas datetime format\n",
    "df1 = pd.read_excel('dataset/lake_dataset_raw.xlsx', converters={'Date Time': pd.to_datetime})\n",
    "df1 = df1.rename(columns={'Date Time' : 'datetime', 'Actual Conductivity (µS/cm) (624571)' : 'actual_conductivity',\n",
    "       'Specific Conductivity (µS/cm) (624571)' : 'specific_conductivity',\n",
    "       'Total Dissolved Solids (ppt) (624571)' : 'total_dissolved_solids',\n",
    "       'RDO Concentration (mg/L) (543925)': 'do_concentration', 'RDO Saturation (%Sat) (543925)': 'do_saturation',\n",
    "       'Oxygen Partial Pressure (Torr) (543925)' : 'oxygen_partial_pressure', 'Turbidity (NTU) (607780)': 'turbidity',\n",
    "       'Chlorophyll-a Fluorescence (RFU) (622895)': 'chl-a_fluorescence',\n",
    "       'Chlorophyll-a Concentration (µg/L) (622895)': 'chl-a_concentration',\n",
    "       'Temperature (°C) (606143)': 'temperature'})"
   ]
  },
  {
   "cell_type": "code",
   "execution_count": 20,
   "id": "fc64fcbf",
   "metadata": {},
   "outputs": [
    {
     "data": {
      "text/html": [
       "<div>\n",
       "<style scoped>\n",
       "    .dataframe tbody tr th:only-of-type {\n",
       "        vertical-align: middle;\n",
       "    }\n",
       "\n",
       "    .dataframe tbody tr th {\n",
       "        vertical-align: top;\n",
       "    }\n",
       "\n",
       "    .dataframe thead th {\n",
       "        text-align: right;\n",
       "    }\n",
       "</style>\n",
       "<table border=\"1\" class=\"dataframe\">\n",
       "  <thead>\n",
       "    <tr style=\"text-align: right;\">\n",
       "      <th></th>\n",
       "      <th>actual_conductivity</th>\n",
       "      <th>total_dissolved_solids</th>\n",
       "      <th>do_concentration</th>\n",
       "      <th>turbidity</th>\n",
       "      <th>chl-a_concentration</th>\n",
       "      <th>temperature</th>\n",
       "    </tr>\n",
       "    <tr>\n",
       "      <th>datetime</th>\n",
       "      <th></th>\n",
       "      <th></th>\n",
       "      <th></th>\n",
       "      <th></th>\n",
       "      <th></th>\n",
       "      <th></th>\n",
       "    </tr>\n",
       "  </thead>\n",
       "  <tbody>\n",
       "    <tr>\n",
       "      <th>2019-02-20 12:00:00</th>\n",
       "      <td>92.12651</td>\n",
       "      <td>0.055088</td>\n",
       "      <td>6.491213</td>\n",
       "      <td>32.86783</td>\n",
       "      <td>39.64875</td>\n",
       "      <td>29.55674</td>\n",
       "    </tr>\n",
       "    <tr>\n",
       "      <th>2019-02-20 12:10:00</th>\n",
       "      <td>92.22813</td>\n",
       "      <td>0.055115</td>\n",
       "      <td>6.724226</td>\n",
       "      <td>24.30492</td>\n",
       "      <td>40.57396</td>\n",
       "      <td>29.59175</td>\n",
       "    </tr>\n",
       "    <tr>\n",
       "      <th>2019-02-20 12:20:00</th>\n",
       "      <td>91.93182</td>\n",
       "      <td>0.054952</td>\n",
       "      <td>6.677357</td>\n",
       "      <td>47.46174</td>\n",
       "      <td>40.88269</td>\n",
       "      <td>29.57693</td>\n",
       "    </tr>\n",
       "    <tr>\n",
       "      <th>2019-02-20 12:30:00</th>\n",
       "      <td>92.45161</td>\n",
       "      <td>0.055210</td>\n",
       "      <td>7.540924</td>\n",
       "      <td>55.04100</td>\n",
       "      <td>46.67803</td>\n",
       "      <td>29.63118</td>\n",
       "    </tr>\n",
       "    <tr>\n",
       "      <th>2019-02-20 12:40:00</th>\n",
       "      <td>92.78736</td>\n",
       "      <td>0.055398</td>\n",
       "      <td>7.629431</td>\n",
       "      <td>26.58170</td>\n",
       "      <td>47.05107</td>\n",
       "      <td>29.64378</td>\n",
       "    </tr>\n",
       "  </tbody>\n",
       "</table>\n",
       "</div>"
      ],
      "text/plain": [
       "                     actual_conductivity  total_dissolved_solids  \\\n",
       "datetime                                                           \n",
       "2019-02-20 12:00:00             92.12651                0.055088   \n",
       "2019-02-20 12:10:00             92.22813                0.055115   \n",
       "2019-02-20 12:20:00             91.93182                0.054952   \n",
       "2019-02-20 12:30:00             92.45161                0.055210   \n",
       "2019-02-20 12:40:00             92.78736                0.055398   \n",
       "\n",
       "                     do_concentration  turbidity  chl-a_concentration  \\\n",
       "datetime                                                                \n",
       "2019-02-20 12:00:00          6.491213   32.86783             39.64875   \n",
       "2019-02-20 12:10:00          6.724226   24.30492             40.57396   \n",
       "2019-02-20 12:20:00          6.677357   47.46174             40.88269   \n",
       "2019-02-20 12:30:00          7.540924   55.04100             46.67803   \n",
       "2019-02-20 12:40:00          7.629431   26.58170             47.05107   \n",
       "\n",
       "                     temperature  \n",
       "datetime                          \n",
       "2019-02-20 12:00:00     29.55674  \n",
       "2019-02-20 12:10:00     29.59175  \n",
       "2019-02-20 12:20:00     29.57693  \n",
       "2019-02-20 12:30:00     29.63118  \n",
       "2019-02-20 12:40:00     29.64378  "
      ]
     },
     "execution_count": 20,
     "metadata": {},
     "output_type": "execute_result"
    }
   ],
   "source": [
    "#dropping non-useful columns \n",
    "\n",
    "df1 = df1.drop(columns= ['specific_conductivity', 'do_saturation', 'oxygen_partial_pressure', 'chl-a_fluorescence'])\n",
    "\n",
    "#setting datetime as the index and sorting the dataframe\n",
    "df1 = df1.set_index('datetime').sort_index()\n",
    "df1.head()"
   ]
  },
  {
   "cell_type": "code",
   "execution_count": 27,
   "id": "cea99605",
   "metadata": {},
   "outputs": [
    {
     "data": {
      "text/plain": [
       "<matplotlib.axes._subplots.AxesSubplot at 0x19e9a660a58>"
      ]
     },
     "execution_count": 27,
     "metadata": {},
     "output_type": "execute_result"
    },
    {
     "data": {
      "image/png": "[encoded data removed]",
      "text/plain": [
       "<Figure size 1296x216 with 1 Axes>"
      ]
     },
     "metadata": {
      "needs_background": "light"
     },
     "output_type": "display_data"
    }
   ],
   "source": [
    "plt.figure(figsize = (18,3))\n",
    "sns.boxplot(x=df1['chl-a_concentration'])"
   ]
  }
 ],
 "metadata": {
  "kernelspec": {
   "display_name": "Python 3",
   "language": "python",
   "name": "python3"
  },
  "language_info": {
   "codemirror_mode": {
    "name": "ipython",
    "version": 3
   },
   "file_extension": ".py",
   "mimetype": "text/x-python",
   "name": "python",
   "nbconvert_exporter": "python",
   "pygments_lexer": "ipython3",
   "version": "3.6.13"
  }
 },
 "nbformat": 4,
 "nbformat_minor": 5
}
